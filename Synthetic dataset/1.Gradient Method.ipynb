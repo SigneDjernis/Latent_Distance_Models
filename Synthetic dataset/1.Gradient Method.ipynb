{
 "cells": [
  {
   "cell_type": "code",
   "execution_count": 7,
   "metadata": {},
   "outputs": [],
   "source": [
    "# Import packages\n",
    "import sys\n",
    "sys.path.append('../')\n",
    "from Functions import * \n",
    "import copy"
   ]
  },
  {
   "cell_type": "code",
   "execution_count": 8,
   "metadata": {},
   "outputs": [],
   "source": [
    "# Matrix Y, containing all relations\n",
    "Y = [[1, 1, 2],\n",
    "     [-1, 3, 1],\n",
    "     [-1, 1, 4],\n",
    "     [1, 2, 3],\n",
    "     [1, 2, 4],\n",
    "     [1, 3, 4]]"
   ]
  },
  {
   "cell_type": "code",
   "execution_count": 47,
   "metadata": {},
   "outputs": [],
   "source": [
    "# Define mu and cov_matrix to be able to sample #num_samples samples from a multivariate normal distribution with dimension dim\n",
    "dim = 2\n",
    "mu = np.zeros(dim) \n",
    "identity_matrix = np.eye(dim) \n",
    "num_samples = 4  \n",
    "\n",
    "\n",
    "points = {l+1: np.random.multivariate_normal(mu, identity_matrix) for l in range(num_samples)} "
   ]
  },
  {
   "cell_type": "code",
   "execution_count": 98,
   "metadata": {},
   "outputs": [
    {
     "name": "stdout",
     "output_type": "stream",
     "text": [
      "Stored 'points' (dict)\n"
     ]
    }
   ],
   "source": [
    "%store points\n",
    "points_copy = copy.deepcopy(points)"
   ]
  },
  {
   "cell_type": "code",
   "execution_count": 99,
   "metadata": {},
   "outputs": [],
   "source": [
    "# The code compute the latent space for the LDM without a prior\n",
    "prev_grad = 200 \n",
    "grad = 0\n",
    "k = 0\n",
    "n = 100000\n",
    "grad_sum = np.zeros(n)\n",
    "alpha = 1 # Change alpha here\n",
    "\n",
    "while abs(prev_grad - grad) > 0.001: # stopping criteria\n",
    "    prev_grad = grad\n",
    "    for i in range(1,num_samples+1):\n",
    "        grad_sum[k] += np.sum(Gradient_function_fast(i,2,Y,points_copy,alpha)**2)\n",
    "        points_copy[i] += LR(k)*Gradient_function_fast(i,2,Y,points_copy,alpha)\n",
    "    grad = grad_sum[k]\n",
    "    k += 1"
   ]
  },
  {
   "cell_type": "code",
   "execution_count": 100,
   "metadata": {},
   "outputs": [
    {
     "data": {
      "image/png": "[encoded data removed]",
      "text/plain": [
       "<Figure size 600x400 with 1 Axes>"
      ]
     },
     "metadata": {},
     "output_type": "display_data"
    }
   ],
   "source": [
    "plt.figure(figsize=(6, 4))\n",
    "\n",
    "for m in range(len(Y)): \n",
    "    if Y[m][0] == 1: # Check if there is a connection between Y[m][1] and Y[m][2]\n",
    "        point1 = points_copy[Y[m][1]]\n",
    "        point2 = points_copy[Y[m][2]]\n",
    "        plt.plot([point1[0], point2[0]], [point1[1], point2[1]], color='black', linewidth=0.5) # Ad a line between Y[m][1] and Y[m][2]\n",
    "\n",
    "# extract the points and plot them\n",
    "x = [point[0] for point in points_copy.values()]\n",
    "y = [point[1] for point in points_copy.values()]\n",
    "plt.scatter(x, y, color='#377eb8')\n",
    "\n",
    "plt.xlabel(r'$z_1$')\n",
    "plt.ylabel(r'$z_2$')\n",
    "plt.xlim(-1.6, 1.3)\n",
    "plt.ylim(-0.8, 1.8)\n",
    "plt.title('Scatter Plot with Lines')\n",
    "#plt.grid(True)\n",
    "plt.show()"
   ]
  }
 ],
 "metadata": {
  "kernelspec": {
   "display_name": "bachelor",
   "language": "python",
   "name": "python3"
  },
  "language_info": {
   "codemirror_mode": {
    "name": "ipython",
    "version": 3
   },
   "file_extension": ".py",
   "mimetype": "text/x-python",
   "name": "python",
   "nbconvert_exporter": "python",
   "pygments_lexer": "ipython3",
   "version": "3.9.18"
  }
 },
 "nbformat": 4,
 "nbformat_minor": 2
}
