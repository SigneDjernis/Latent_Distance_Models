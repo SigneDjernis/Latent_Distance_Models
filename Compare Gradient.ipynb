{
 "cells": [
  {
   "cell_type": "code",
   "execution_count": 76,
   "metadata": {},
   "outputs": [],
   "source": [
    "import numpy as np\n",
    "from scipy.optimize import check_grad\n",
    "\n",
    "Y = [[1, 1, 2],\n",
    "     [-1, 1, 3],\n",
    "     [-1, 1, 4],\n",
    "     [1, 2, 3],\n",
    "     [1, 2, 4],\n",
    "     [1, 3, 4]]\n",
    "\n",
    "points = {1: np.array([-2, 0]),\n",
    "         2: np.array([1, 2]),\n",
    "         3: np.array([4, 3]),\n",
    "         4: np.array([4, 3])}\n"
   ]
  },
  {
   "cell_type": "code",
   "execution_count": 77,
   "metadata": {},
   "outputs": [],
   "source": [
    "def func(point):\n",
    "    sum = 0\n",
    "    alpha = 5\n",
    "    for m in range(len(Y)):\n",
    "        if ((Y[m][1] == 1) or (Y[m][2] == 1)):\n",
    "            norm_diff = (np.linalg.norm(point[Y[m][1]] - point[Y[m][2]]))**2\n",
    "            sum += np.log(1/(1+np.exp(-Y[m][0]*(alpha-norm_diff))))\n",
    "    return sum"
   ]
  },
  {
   "cell_type": "code",
   "execution_count": 78,
   "metadata": {},
   "outputs": [],
   "source": [
    "def grad(point):\n",
    "    sum = 0\n",
    "    alpha = 5\n",
    "    for m in range(len(Y)):\n",
    "        if ((Y[m][1] == 1) or (Y[m][2] == 1)):\n",
    "            norm_diff = (np.linalg.norm(point[Y[m][1]] - point[Y[m][2]]))**2\n",
    "            point_index_diff = (point[1][0] - point[Y[m][2]][0]) + (point[1][0] - point[Y[m][1]][0])\n",
    "            sum += (2 * Y[m][0] * point_index_diff * np.exp(-Y[m][0] * (alpha - norm_diff))) / (1 + np.exp(-Y[m][0] * (alpha - norm_diff)))\n",
    "    return sum"
   ]
  },
  {
   "cell_type": "code",
   "execution_count": 79,
   "metadata": {},
   "outputs": [
    {
     "data": {
      "text/plain": [
       "-8.000335406372894"
      ]
     },
     "execution_count": 79,
     "metadata": {},
     "output_type": "execute_result"
    }
   ],
   "source": [
    "func({1: np.array([-2, 0]),2: np.array([1, 2]),3: np.array([4, 3]),4: np.array([4, 3])})"
   ]
  },
  {
   "cell_type": "code",
   "execution_count": 80,
   "metadata": {},
   "outputs": [
    {
     "data": {
      "text/plain": [
       "-5.997987899217201"
      ]
     },
     "execution_count": 80,
     "metadata": {},
     "output_type": "execute_result"
    }
   ],
   "source": [
    "grad({1: np.array([-2, 0]),2: np.array([1, 2]),3: np.array([4, 3]),4: np.array([4, 3])})"
   ]
  },
  {
   "cell_type": "code",
   "execution_count": 17,
   "metadata": {},
   "outputs": [],
   "source": [
    "def grad2D(point):\n",
    "    alpha = 5\n",
    "    norm_diff = np.linalg.norm(point[Y[0][1]] - point[Y[0][2]])\n",
    "    exp_term = np.exp(-Y[0][0] * (alpha - norm_diff))\n",
    "    grad_x = (2 * Y[0][0] * (point[Y[0][1]][0] - point[Y[0][2]][0]) * exp_term) / (1 + exp_term)\n",
    "    grad_y = (2 * Y[0][0] * (point[Y[0][1]][1] - point[Y[0][2]][1]) * exp_term) / (1 + exp_term)\n",
    "    return np.array([grad_x, grad_y])\n"
   ]
  },
  {
   "cell_type": "code",
   "execution_count": 139,
   "metadata": {},
   "outputs": [
    {
     "name": "stdout",
     "output_type": "stream",
     "text": [
      "Gradient error: 62.97914345966022\n"
     ]
    }
   ],
   "source": [
    "import numpy as np\n",
    "from scipy.optimize import check_grad\n",
    "\n",
    "Y = [[1, 1, 2],\n",
    "     [-1, 1, 3],\n",
    "     [-1, 1, 4],\n",
    "     [1, 2, 3],\n",
    "     [1, 2, 4],\n",
    "     [1, 3, 4]]\n",
    "\n",
    "def function(point):\n",
    "    alpha = 5\n",
    "    total_obj = 0\n",
    "    for m in range(len(Y)):\n",
    "        norm_diff = (np.linalg.norm(point[Y[m][1]] - point[Y[m][2]]))**2\n",
    "        total_obj += np.log(1 / (1 + np.exp(-Y[m][0] * (alpha - norm_diff))))\n",
    "    return total_obj\n",
    "\n",
    "def grad(point):\n",
    "    sum = 0\n",
    "    alpha = 5\n",
    "    for m in range(len(Y)):\n",
    "        if ((Y[m][1] == 1) or (Y[m][2] == 1)):\n",
    "            norm_diff = (np.linalg.norm(point[Y[m][1]] - point[Y[m][2]]))**2\n",
    "            point_index_diff = (point[0] - point[2*(Y[m][2]-1)]) + (point[0] - point[2*(Y[m][2]-1)])\n",
    "            sum += (2 * Y[m][0] * point_index_diff * np.exp(-Y[m][0] * (alpha - norm_diff))) / (1 + np.exp(-Y[m][0] * (alpha - norm_diff)))\n",
    "    return sum\n",
    "\n",
    "# Test point\n",
    "point = np.array([[1, 2], [0, 1], [4, 4], [4, 3]])\n",
    "\n",
    "# Check gradient\n",
    "epsilon = 1e-6\n",
    "error = check_grad(function, grad, point.flatten())\n",
    "print(\"Gradient error:\", error)\n"
   ]
  },
  {
   "cell_type": "code",
   "execution_count": null,
   "metadata": {},
   "outputs": [],
   "source": [
    "import autograd.numpy as np\n",
    "from autograd import grad \n",
    "grad_func = grad(function)"
   ]
  }
 ],
 "metadata": {
  "kernelspec": {
   "display_name": "bachelor",
   "language": "python",
   "name": "python3"
  },
  "language_info": {
   "codemirror_mode": {
    "name": "ipython",
    "version": 3
   },
   "file_extension": ".py",
   "mimetype": "text/x-python",
   "name": "python",
   "nbconvert_exporter": "python",
   "pygments_lexer": "ipython3",
   "version": "3.9.18"
  }
 },
 "nbformat": 4,
 "nbformat_minor": 2
}
