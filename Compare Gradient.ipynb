{
 "cells": [
  {
   "cell_type": "code",
   "execution_count": 270,
   "metadata": {},
   "outputs": [],
   "source": [
    "import numpy as np\n",
    "from scipy.optimize import check_grad\n",
    "import copy\n",
    "\n",
    "Y = [[1, 1, 2],\n",
    "     [-1, 1, 3],\n",
    "     [-1, 1, 4],\n",
    "     [1, 2, 3],\n",
    "     [1, 2, 4],\n",
    "     [1, 3, 4]]\n",
    "\n",
    "# Set mean (mu) as a zero vector\n",
    "mu = np.zeros(2)\n",
    "# Set covariance matrix\n",
    "cov_matrix = np.array([[1.0, 0.5], [0.5, 2.0]])\n",
    "\n",
    "# Generate random vectors\n",
    "num_samples = 4  # Number of samples you want to generate\n",
    "\n",
    "points = {l+1: np.random.multivariate_normal(mu, cov_matrix) for l in range(num_samples)}"
   ]
  },
  {
   "cell_type": "code",
   "execution_count": 310,
   "metadata": {},
   "outputs": [],
   "source": [
    "def function(edge_m,point):\n",
    "    alpha = 5\n",
    "    connection = Y[edge_m][0]\n",
    "    point_1 = point[Y[edge_m][1]]\n",
    "    point_2 = point[Y[edge_m][2]]\n",
    "    norm_distance_squared = np.linalg.norm(point_1 - point_2) ** 2\n",
    "    exponent = -connection * (alpha - norm_distance_squared)\n",
    "    sigmoid_value = 1 / (1 + np.exp(exponent))\n",
    "    result = np.log(sigmoid_value)\n",
    "    return result"
   ]
  },
  {
   "cell_type": "code",
   "execution_count": 311,
   "metadata": {},
   "outputs": [],
   "source": [
    "def grad(edge_m, index_i):\n",
    "    alpha = 5\n",
    "    connection = Y[edge_m][0]\n",
    "    node1_coord = point[Y[edge_m][1]]\n",
    "    node2_coord = point[Y[edge_m][2]]\n",
    "    distance = (np.linalg.norm(node1_coord - node2_coord))**2\n",
    "    \n",
    "    numerator = -2 * connection * (node1_coord[index_i] - node2_coord[index_i]) * np.exp(-connection * (alpha - distance))\n",
    "    denominator = 1 + np.exp(-connection * (alpha - distance))\n",
    "    \n",
    "    return numerator / denominator"
   ]
  },
  {
   "cell_type": "code",
   "execution_count": 289,
   "metadata": {},
   "outputs": [
    {
     "data": {
      "text/plain": [
       "-32.608388461327536"
      ]
     },
     "execution_count": 289,
     "metadata": {},
     "output_type": "execute_result"
    }
   ],
   "source": [
    "# Function af x\n",
    "sum = 0\n",
    "for m in range(len(Y)):\n",
    "    sum += function(m,points)\n",
    "sum"
   ]
  },
  {
   "cell_type": "code",
   "execution_count": 290,
   "metadata": {},
   "outputs": [
    {
     "data": {
      "text/plain": [
       "-32.608711837442925"
      ]
     },
     "execution_count": 290,
     "metadata": {},
     "output_type": "execute_result"
    }
   ],
   "source": [
    "# Function af x+epsilon\n",
    "point_e = copy.deepcopy(points)\n",
    "point_e[1][0] += 0.001\n",
    "sum_e = 0\n",
    "for m in range(len(Y)):\n",
    "    sum_e += function(m,point_e)\n",
    "sum_e"
   ]
  },
  {
   "cell_type": "code",
   "execution_count": 291,
   "metadata": {},
   "outputs": [
    {
     "data": {
      "text/plain": [
       "-1.8932832505483042"
      ]
     },
     "execution_count": 291,
     "metadata": {},
     "output_type": "execute_result"
    }
   ],
   "source": [
    "# Gradient af x\n",
    "gradient = 0\n",
    "for m in range(len(Y)):\n",
    "    if ((Y[m][1] == 1) or (Y[m][2] == 1)):\n",
    "        gradient += grad(m,0)\n",
    "\n",
    "gradient"
   ]
  },
  {
   "cell_type": "code",
   "execution_count": 293,
   "metadata": {},
   "outputs": [
    {
     "data": {
      "text/plain": [
       "1.569907135158953"
      ]
     },
     "execution_count": 293,
     "metadata": {},
     "output_type": "execute_result"
    }
   ],
   "source": [
    "(sum_e-sum)/0.001-(gradient)"
   ]
  },
  {
   "cell_type": "code",
   "execution_count": 308,
   "metadata": {},
   "outputs": [],
   "source": [
    "hist = np.zeros(100000)\n",
    "for n in range(100000):\n",
    "    points = {l+1: np.random.multivariate_normal(mu, cov_matrix) for l in range(num_samples)}\n",
    "    \n",
    "    sum = 0\n",
    "    for m in range(len(Y)):\n",
    "        sum += function(m,points)\n",
    "\n",
    "    point_e = copy.deepcopy(points)\n",
    "    point_e[1][0] += 0.001\n",
    "    sum_e = 0\n",
    "    for m in range(len(Y)):\n",
    "        sum_e += function(m,point_e)\n",
    "    \n",
    "    gradient = 0\n",
    "    for m in range(len(Y)):\n",
    "        if ((Y[m][1] == 1) or (Y[m][2] == 1)):\n",
    "            gradient += grad(m,0)\n",
    "            \n",
    "    hist[n] = (sum_e-sum)/0.001-(gradient)"
   ]
  },
  {
   "cell_type": "code",
   "execution_count": 309,
   "metadata": {},
   "outputs": [
    {
     "data": {
      "text/plain": [
       "(array([1.0000e+00, 9.0000e+00, 9.0000e+00, 3.8000e+01, 8.6000e+01,\n",
       "        1.9200e+02, 3.7400e+02, 7.1100e+02, 1.4720e+03, 2.5780e+03,\n",
       "        4.0340e+03, 6.2440e+03, 8.7550e+03, 1.0520e+04, 1.2895e+04,\n",
       "        1.4705e+04, 1.0851e+04, 9.1250e+03, 6.8860e+03, 4.3160e+03,\n",
       "        2.7990e+03, 1.6660e+03, 8.0800e+02, 4.4200e+02, 2.5900e+02,\n",
       "        1.3200e+02, 5.6000e+01, 2.2000e+01, 1.3000e+01, 2.0000e+00]),\n",
       " array([-10.25888143,  -9.45434917,  -8.64981691,  -7.84528466,\n",
       "         -7.0407524 ,  -6.23622015,  -5.43168789,  -4.62715563,\n",
       "         -3.82262338,  -3.01809112,  -2.21355887,  -1.40902661,\n",
       "         -0.60449435,   0.2000379 ,   1.00457016,   1.80910241,\n",
       "          2.61363467,   3.41816693,   4.22269918,   5.02723144,\n",
       "          5.83176369,   6.63629595,   7.44082821,   8.24536046,\n",
       "          9.04989272,   9.85442497,  10.65895723,  11.46348949,\n",
       "         12.26802174,  13.072554  ,  13.87708625]),\n",
       " <BarContainer object of 30 artists>)"
      ]
     },
     "execution_count": 309,
     "metadata": {},
     "output_type": "execute_result"
    },
    {
     "data": {
      "image/png": "[encoded data removed]",
      "text/plain": [
       "<Figure size 640x480 with 1 Axes>"
      ]
     },
     "metadata": {},
     "output_type": "display_data"
    }
   ],
   "source": [
    "import matplotlib.pyplot as plt\n",
    "plt.hist(hist, bins = 30, color='skyblue', edgecolor='black')"
   ]
  }
 ],
 "metadata": {
  "kernelspec": {
   "display_name": "bachelor",
   "language": "python",
   "name": "python3"
  },
  "language_info": {
   "codemirror_mode": {
    "name": "ipython",
    "version": 3
   },
   "file_extension": ".py",
   "mimetype": "text/x-python",
   "name": "python",
   "nbconvert_exporter": "python",
   "pygments_lexer": "ipython3",
   "version": "3.9.18"
  }
 },
 "nbformat": 4,
 "nbformat_minor": 2
}
