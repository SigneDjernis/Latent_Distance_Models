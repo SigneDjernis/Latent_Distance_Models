{
 "cells": [
  {
   "cell_type": "code",
   "execution_count": 46,
   "metadata": {},
   "outputs": [],
   "source": [
    "import numpy as np\n",
    "from scipy.optimize import check_grad\n",
    "\n",
    "Y = [[1, 1, 2],\n",
    "     [-1, 1, 3],\n",
    "     [-1, 1, 4],\n",
    "     [1, 2, 3],\n",
    "     [1, 2, 4],\n",
    "     [1, 3, 4]]\n",
    "\n",
    "points = {1: np.array([-2, 0]),\n",
    "         2: np.array([1, 2]),\n",
    "         3: np.array([4, 3]),\n",
    "         4: np.array([4, 3])}\n"
   ]
  },
  {
   "cell_type": "code",
   "execution_count": 26,
   "metadata": {},
   "outputs": [],
   "source": [
    "def function(point):\n",
    "    alpha = 5\n",
    "    return np.log(1/(1+np.exp(-Y[0][0]*(alpha-np.linalg.norm(point[Y[0][1]] - point[Y[0][2]])))))"
   ]
  },
  {
   "cell_type": "code",
   "execution_count": 27,
   "metadata": {},
   "outputs": [],
   "source": [
    "def grad(point):\n",
    "    alpha = 5\n",
    "    norm_diff = (np.linalg.norm(point[Y[0][1]] - point[Y[0][2]]))**2\n",
    "    return (2 * Y[0][0] * (point[Y[0][1]][0] - point[Y[0][2]][0]) * np.exp(-Y[0][0] * (alpha - norm_diff))) / (1 + np.exp(-Y[0][0] * (alpha - norm_diff)))"
   ]
  },
  {
   "cell_type": "code",
   "execution_count": 28,
   "metadata": {},
   "outputs": [
    {
     "data": {
      "text/plain": [
       "-0.22151798944819565"
      ]
     },
     "execution_count": 28,
     "metadata": {},
     "output_type": "execute_result"
    }
   ],
   "source": [
    "function({1: np.array([-2, 0]),2: np.array([1, 2]),3: np.array([4, 3]),4: np.array([4, 3])\n",
    "})"
   ]
  },
  {
   "cell_type": "code",
   "execution_count": 29,
   "metadata": {},
   "outputs": [
    {
     "data": {
      "text/plain": [
       "-1.1921909577220489"
      ]
     },
     "execution_count": 29,
     "metadata": {},
     "output_type": "execute_result"
    }
   ],
   "source": [
    "grad({1: np.array([-2, 0]),2: np.array([1, 2]),3: np.array([4, 3]),4: np.array([4, 3])\n",
    "})"
   ]
  },
  {
   "cell_type": "code",
   "execution_count": 40,
   "metadata": {},
   "outputs": [],
   "source": [
    "def grad2D(point):\n",
    "    alpha = 5\n",
    "    norm_diff = np.linalg.norm(point[Y[0][1]] - point[Y[0][2]])\n",
    "    exp_term = np.exp(-Y[0][0] * (alpha - norm_diff))\n",
    "    grad_x = (2 * Y[0][0] * (point[Y[0][1]][0] - point[Y[0][2]][0]) * exp_term) / (1 + exp_term)\n",
    "    grad_y = (2 * Y[0][0] * (point[Y[0][1]][1] - point[Y[0][2]][1]) * exp_term) / (1 + exp_term)\n",
    "    return np.array([grad_x, grad_y])\n"
   ]
  },
  {
   "cell_type": "code",
   "execution_count": 41,
   "metadata": {},
   "outputs": [
    {
     "ename": "IndexError",
     "evalue": "index 2 is out of bounds for axis 0 with size 2",
     "output_type": "error",
     "traceback": [
      "\u001b[0;31m---------------------------------------------------------------------------\u001b[0m",
      "\u001b[0;31mIndexError\u001b[0m                                Traceback (most recent call last)",
      "\u001b[1;32m/Users/signeolsen/Desktop/Latent_distance_models/Check Gradient.ipynb Cell 7\u001b[0m line \u001b[0;36m2\n\u001b[1;32m      <a href='vscode-notebook-cell:/Users/signeolsen/Desktop/Latent_distance_models/Check%20Gradient.ipynb#W5sZmlsZQ%3D%3D?line=0'>1</a>\u001b[0m \u001b[39m# Now check the gradient using scipy.optimize.check_grad\u001b[39;00m\n\u001b[0;32m----> <a href='vscode-notebook-cell:/Users/signeolsen/Desktop/Latent_distance_models/Check%20Gradient.ipynb#W5sZmlsZQ%3D%3D?line=1'>2</a>\u001b[0m result \u001b[39m=\u001b[39m check_grad(function, grad, points[\u001b[39m1\u001b[39;49m])  \u001b[39m# You can choose any point from your dictionary\u001b[39;00m\n\u001b[1;32m      <a href='vscode-notebook-cell:/Users/signeolsen/Desktop/Latent_distance_models/Check%20Gradient.ipynb#W5sZmlsZQ%3D%3D?line=2'>3</a>\u001b[0m \u001b[39mprint\u001b[39m(\u001b[39mf\u001b[39m\u001b[39m\"\u001b[39m\u001b[39mGradient correctness check result: \u001b[39m\u001b[39m{\u001b[39;00mresult\u001b[39m:\u001b[39;00m\u001b[39m.8f\u001b[39m\u001b[39m}\u001b[39;00m\u001b[39m\"\u001b[39m)\n",
      "File \u001b[0;32m~/opt/anaconda3/envs/bachelor/lib/python3.9/site-packages/scipy/optimize/_optimize.py:1178\u001b[0m, in \u001b[0;36mcheck_grad\u001b[0;34m(func, grad, x0, epsilon, direction, seed, *args)\u001b[0m\n\u001b[1;32m   1176\u001b[0m     _func \u001b[39m=\u001b[39m func\n\u001b[1;32m   1177\u001b[0m     \u001b[39mvars\u001b[39m \u001b[39m=\u001b[39m x0\n\u001b[0;32m-> 1178\u001b[0m     analytical_grad \u001b[39m=\u001b[39m grad(x0, \u001b[39m*\u001b[39;49margs)\n\u001b[1;32m   1179\u001b[0m \u001b[39melse\u001b[39;00m:\n\u001b[1;32m   1180\u001b[0m     \u001b[39mraise\u001b[39;00m \u001b[39mValueError\u001b[39;00m(\u001b[39m\"\u001b[39m\u001b[39m{}\u001b[39;00m\u001b[39m is not a valid string for \u001b[39m\u001b[39m\"\u001b[39m\n\u001b[1;32m   1181\u001b[0m                      \u001b[39m\"\u001b[39m\u001b[39m``direction`` argument\u001b[39m\u001b[39m\"\u001b[39m\u001b[39m.\u001b[39mformat(direction))\n",
      "\u001b[1;32m/Users/signeolsen/Desktop/Latent_distance_models/Check Gradient.ipynb Cell 7\u001b[0m line \u001b[0;36m3\n\u001b[1;32m      <a href='vscode-notebook-cell:/Users/signeolsen/Desktop/Latent_distance_models/Check%20Gradient.ipynb#W5sZmlsZQ%3D%3D?line=0'>1</a>\u001b[0m \u001b[39mdef\u001b[39;00m \u001b[39mgrad\u001b[39m(point):\n\u001b[1;32m      <a href='vscode-notebook-cell:/Users/signeolsen/Desktop/Latent_distance_models/Check%20Gradient.ipynb#W5sZmlsZQ%3D%3D?line=1'>2</a>\u001b[0m     alpha \u001b[39m=\u001b[39m \u001b[39m5\u001b[39m\n\u001b[0;32m----> <a href='vscode-notebook-cell:/Users/signeolsen/Desktop/Latent_distance_models/Check%20Gradient.ipynb#W5sZmlsZQ%3D%3D?line=2'>3</a>\u001b[0m     norm_diff \u001b[39m=\u001b[39m np\u001b[39m.\u001b[39mlinalg\u001b[39m.\u001b[39mnorm(point[Y[\u001b[39m0\u001b[39m][\u001b[39m1\u001b[39m]] \u001b[39m-\u001b[39m point[Y[\u001b[39m0\u001b[39;49m][\u001b[39m2\u001b[39;49m]])\n\u001b[1;32m      <a href='vscode-notebook-cell:/Users/signeolsen/Desktop/Latent_distance_models/Check%20Gradient.ipynb#W5sZmlsZQ%3D%3D?line=3'>4</a>\u001b[0m     \u001b[39mreturn\u001b[39;00m (\u001b[39m2\u001b[39m \u001b[39m*\u001b[39m Y[\u001b[39m0\u001b[39m][\u001b[39m0\u001b[39m] \u001b[39m*\u001b[39m (point[Y[\u001b[39m0\u001b[39m][\u001b[39m1\u001b[39m]][\u001b[39m0\u001b[39m] \u001b[39m-\u001b[39m point[Y[\u001b[39m0\u001b[39m][\u001b[39m2\u001b[39m]][\u001b[39m0\u001b[39m]) \u001b[39m*\u001b[39m np\u001b[39m.\u001b[39mexp(\u001b[39m-\u001b[39mY[\u001b[39m0\u001b[39m][\u001b[39m0\u001b[39m] \u001b[39m*\u001b[39m (alpha \u001b[39m-\u001b[39m norm_diff))) \u001b[39m/\u001b[39m (\u001b[39m1\u001b[39m \u001b[39m+\u001b[39m np\u001b[39m.\u001b[39mexp(\u001b[39m-\u001b[39mY[\u001b[39m0\u001b[39m][\u001b[39m0\u001b[39m] \u001b[39m*\u001b[39m (alpha \u001b[39m-\u001b[39m norm_diff)))\n",
      "\u001b[0;31mIndexError\u001b[0m: index 2 is out of bounds for axis 0 with size 2"
     ]
    }
   ],
   "source": [
    "# Now check the gradient using scipy.optimize.check_grad\n",
    "result = check_grad(function, grad, points[1])  # You can choose any point from your dictionary\n",
    "print(f\"Gradient correctness check result: {result:.8f}\")"
   ]
  },
  {
   "cell_type": "code",
   "execution_count": 49,
   "metadata": {},
   "outputs": [
    {
     "ename": "IndexError",
     "evalue": "index 2 is out of bounds for axis 0 with size 2",
     "output_type": "error",
     "traceback": [
      "\u001b[0;31m---------------------------------------------------------------------------\u001b[0m",
      "\u001b[0;31mIndexError\u001b[0m                                Traceback (most recent call last)",
      "\u001b[1;32m/Users/signeolsen/Desktop/Latent_distance_models/Check Gradient.ipynb Cell 8\u001b[0m line \u001b[0;36m1\n\u001b[0;32m----> <a href='vscode-notebook-cell:/Users/signeolsen/Desktop/Latent_distance_models/Check%20Gradient.ipynb#X14sZmlsZQ%3D%3D?line=0'>1</a>\u001b[0m check_grad(function, grad, [\u001b[39m1.5\u001b[39;49m, \u001b[39m-\u001b[39;49m\u001b[39m1.5\u001b[39;49m], direction\u001b[39m=\u001b[39;49m\u001b[39m'\u001b[39;49m\u001b[39mrandom\u001b[39;49m\u001b[39m'\u001b[39;49m)\n",
      "File \u001b[0;32m~/opt/anaconda3/envs/bachelor/lib/python3.9/site-packages/scipy/optimize/_optimize.py:1164\u001b[0m, in \u001b[0;36mcheck_grad\u001b[0;34m(func, grad, x0, epsilon, direction, seed, *args)\u001b[0m\n\u001b[1;32m   1161\u001b[0m     \u001b[39mreturn\u001b[39;00m func(x0 \u001b[39m+\u001b[39m w\u001b[39m*\u001b[39mv, \u001b[39m*\u001b[39margs)\n\u001b[1;32m   1163\u001b[0m \u001b[39mif\u001b[39;00m direction \u001b[39m==\u001b[39m \u001b[39m'\u001b[39m\u001b[39mrandom\u001b[39m\u001b[39m'\u001b[39m:\n\u001b[0;32m-> 1164\u001b[0m     _grad \u001b[39m=\u001b[39m np\u001b[39m.\u001b[39masanyarray(grad(x0, \u001b[39m*\u001b[39;49margs))\n\u001b[1;32m   1165\u001b[0m     \u001b[39mif\u001b[39;00m _grad\u001b[39m.\u001b[39mndim \u001b[39m>\u001b[39m \u001b[39m1\u001b[39m:\n\u001b[1;32m   1166\u001b[0m         \u001b[39mraise\u001b[39;00m \u001b[39mValueError\u001b[39;00m(\u001b[39m\"\u001b[39m\u001b[39m'\u001b[39m\u001b[39mrandom\u001b[39m\u001b[39m'\u001b[39m\u001b[39m can only be used with scalar valued\u001b[39m\u001b[39m\"\u001b[39m\n\u001b[1;32m   1167\u001b[0m                          \u001b[39m\"\u001b[39m\u001b[39m func\u001b[39m\u001b[39m\"\u001b[39m)\n",
      "\u001b[1;32m/Users/signeolsen/Desktop/Latent_distance_models/Check Gradient.ipynb Cell 8\u001b[0m line \u001b[0;36m3\n\u001b[1;32m      <a href='vscode-notebook-cell:/Users/signeolsen/Desktop/Latent_distance_models/Check%20Gradient.ipynb#X14sZmlsZQ%3D%3D?line=0'>1</a>\u001b[0m \u001b[39mdef\u001b[39;00m \u001b[39mgrad\u001b[39m(point):\n\u001b[1;32m      <a href='vscode-notebook-cell:/Users/signeolsen/Desktop/Latent_distance_models/Check%20Gradient.ipynb#X14sZmlsZQ%3D%3D?line=1'>2</a>\u001b[0m     alpha \u001b[39m=\u001b[39m \u001b[39m5\u001b[39m\n\u001b[0;32m----> <a href='vscode-notebook-cell:/Users/signeolsen/Desktop/Latent_distance_models/Check%20Gradient.ipynb#X14sZmlsZQ%3D%3D?line=2'>3</a>\u001b[0m     norm_diff \u001b[39m=\u001b[39m np\u001b[39m.\u001b[39mlinalg\u001b[39m.\u001b[39mnorm(point[Y[\u001b[39m0\u001b[39m][\u001b[39m1\u001b[39m]] \u001b[39m-\u001b[39m point[Y[\u001b[39m0\u001b[39;49m][\u001b[39m2\u001b[39;49m]])\n\u001b[1;32m      <a href='vscode-notebook-cell:/Users/signeolsen/Desktop/Latent_distance_models/Check%20Gradient.ipynb#X14sZmlsZQ%3D%3D?line=3'>4</a>\u001b[0m     \u001b[39mreturn\u001b[39;00m (\u001b[39m2\u001b[39m \u001b[39m*\u001b[39m Y[\u001b[39m0\u001b[39m][\u001b[39m0\u001b[39m] \u001b[39m*\u001b[39m (point[Y[\u001b[39m0\u001b[39m][\u001b[39m1\u001b[39m]][\u001b[39m0\u001b[39m] \u001b[39m-\u001b[39m point[Y[\u001b[39m0\u001b[39m][\u001b[39m2\u001b[39m]][\u001b[39m0\u001b[39m]) \u001b[39m*\u001b[39m np\u001b[39m.\u001b[39mexp(\u001b[39m-\u001b[39mY[\u001b[39m0\u001b[39m][\u001b[39m0\u001b[39m] \u001b[39m*\u001b[39m (alpha \u001b[39m-\u001b[39m norm_diff))) \u001b[39m/\u001b[39m (\u001b[39m1\u001b[39m \u001b[39m+\u001b[39m np\u001b[39m.\u001b[39mexp(\u001b[39m-\u001b[39mY[\u001b[39m0\u001b[39m][\u001b[39m0\u001b[39m] \u001b[39m*\u001b[39m (alpha \u001b[39m-\u001b[39m norm_diff)))\n",
      "\u001b[0;31mIndexError\u001b[0m: index 2 is out of bounds for axis 0 with size 2"
     ]
    }
   ],
   "source": [
    "check_grad(function, grad, [1.5, -1.5], direction='random')"
   ]
  },
  {
   "cell_type": "code",
   "execution_count": 58,
   "metadata": {},
   "outputs": [],
   "source": [
    "import autograd.numpy as np\n",
    "from autograd import grad \n",
    "grad_func = grad(function)"
   ]
  }
 ],
 "metadata": {
  "kernelspec": {
   "display_name": "bachelor",
   "language": "python",
   "name": "python3"
  },
  "language_info": {
   "codemirror_mode": {
    "name": "ipython",
    "version": 3
   },
   "file_extension": ".py",
   "mimetype": "text/x-python",
   "name": "python",
   "nbconvert_exporter": "python",
   "pygments_lexer": "ipython3",
   "version": "3.9.18"
  }
 },
 "nbformat": 4,
 "nbformat_minor": 2
}
