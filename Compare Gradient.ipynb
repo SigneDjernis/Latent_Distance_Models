{
 "cells": [
  {
   "cell_type": "code",
   "execution_count": 2,
   "metadata": {},
   "outputs": [],
   "source": [
    "import numpy as np\n",
    "from scipy.optimize import check_grad\n",
    "\n",
    "Y = [[1, 1, 2],\n",
    "     [-1, 1, 3],\n",
    "     [-1, 1, 4],\n",
    "     [1, 2, 3],\n",
    "     [1, 2, 4],\n",
    "     [1, 3, 4]]\n",
    "\n",
    "points = {1: np.array([-2, 0]),\n",
    "         2: np.array([1, 2]),\n",
    "         3: np.array([4, 3]),\n",
    "         4: np.array([4, 3])}\n"
   ]
  },
  {
   "cell_type": "code",
   "execution_count": 108,
   "metadata": {},
   "outputs": [],
   "source": [
    "def function(point_number_index):\n",
    "    sum = 0\n",
    "    alpha = 5\n",
    "    for m in range(len(Y)):\n",
    "        if ((Y[m][1] == 1) or (Y[m][2] == 1)):\n",
    "            distance = (point_number_index-point[Y[m][2]][0])**2 + (point[Y[m][1]][1]-point[Y[m][2]][1])**2\n",
    "            sum += np.log(1/(1+np.exp(-Y[m][0]*(alpha-distance))))\n",
    "    return sum"
   ]
  },
  {
   "cell_type": "code",
   "execution_count": 109,
   "metadata": {},
   "outputs": [],
   "source": [
    "def grad(point_number_index):\n",
    "    gradient = 0\n",
    "    alpha = 5\n",
    "    for m in range(len(Y)):\n",
    "        if ((Y[m][1] == 1) or (Y[m][2] == 1)):\n",
    "            connection = Y[m][0] # Check to see if there is a connection\n",
    "            distance = (np.linalg.norm(point[Y[m][1]] - point[Y[m][2]]))**2 # Calculate the euclidean distance squared\n",
    "            point_index_diff = (point_number_index - point[Y[m][2]][0]) # Calculate Points_a,i-Points_b,i\n",
    "            numerator = -2 * connection * point_index_diff * np.exp(-connection * (alpha - distance)) # Calculate the numerator\n",
    "            denominator = 1 + np.exp(-connection * (alpha - distance)) # Calculate the denominator\n",
    "            gradient += numerator / denominator # Calculate the fraction and plus all connection there is with point_number together\n",
    "    return gradient"
   ]
  },
  {
   "cell_type": "code",
   "execution_count": 110,
   "metadata": {},
   "outputs": [],
   "source": [
    "import numpy as np\n",
    "from scipy.optimize import check_grad\n",
    "\n",
    "Y = [[1, 1, 2],\n",
    "     [-1, 1, 3],\n",
    "     [-1, 1, 4],\n",
    "     [1, 2, 3],\n",
    "     [1, 2, 4],\n",
    "     [1, 3, 4]]\n",
    "\n",
    "# Test point\n",
    "mu = np.zeros(2) # Set mean (mu) as a zero vector\n",
    "cov_matrix = np.array([[1.0, 0.5], [0.5, 2.0]]) # Set covariance matrix\n",
    "size = (4, 2)  # Size of the sample (rows, columns)\n",
    "num_samples = 4 # Number of nodes"
   ]
  },
  {
   "cell_type": "code",
   "execution_count": 111,
   "metadata": {},
   "outputs": [
    {
     "name": "stdout",
     "output_type": "stream",
     "text": [
      "Gradient error: 4.266845943234898e-08\n"
     ]
    }
   ],
   "source": [
    "# Check gradient\n",
    "epsilon = 1e-6\n",
    "point = {l+1: np.random.multivariate_normal(mu, cov_matrix) for l in range(num_samples)} # Generate points from a normal distribution\n",
    "error = check_grad(function, grad, point[1][0])\n",
    "print(\"Gradient error:\", error)"
   ]
  },
  {
   "cell_type": "code",
   "execution_count": 307,
   "metadata": {},
   "outputs": [],
   "source": [
    "def gradient_func(point):\n",
    "    alpha = 5\n",
    "    gradient = np.zeros_like(point)\n",
    "    for i in range(1,5):\n",
    "        for j in range(2):\n",
    "            for m in range(len(Y)):\n",
    "                if ((Y[m][1] == i) or (Y[m][2] == i)):\n",
    "                    norm_diff = np.linalg.norm(point[Y[m][1]] - point[Y[m][2]]) ** 2\n",
    "                    point_index_diff = (point[2*(i-1)+j] - point[2*(Y[m][1]-1)+j]) + (point[2*(i-1)+j] - point[2*(Y[m][2]-1)+j])\n",
    "                    exp_term = np.exp(-Y[m][0] * (alpha - norm_diff))\n",
    "                    factor = -2 * Y[m][0] * point_index_diff * exp_term/(1+exp_term)\n",
    "                    #print(factor)\n",
    "                    gradient[2*(i-1)+j] += factor\n",
    "                    #gradient[2*(i-1)+j] -= factor\n",
    "    return gradient"
   ]
  },
  {
   "cell_type": "code",
   "execution_count": 112,
   "metadata": {},
   "outputs": [],
   "source": [
    "hist = np.zeros(10000)\n",
    "for n in range(10000):\n",
    "    point = {l+1: np.random.multivariate_normal(mu, cov_matrix) for l in range(num_samples)}\n",
    "    hist[n] = check_grad(function, grad, point[1][0])"
   ]
  },
  {
   "cell_type": "code",
   "execution_count": 113,
   "metadata": {},
   "outputs": [
    {
     "data": {
      "text/plain": [
       "(array([3.395e+03, 2.509e+03, 1.555e+03, 9.170e+02, 5.110e+02, 3.560e+02,\n",
       "        1.980e+02, 1.450e+02, 1.050e+02, 7.200e+01, 5.000e+01, 4.900e+01,\n",
       "        2.500e+01, 2.400e+01, 2.700e+01, 1.400e+01, 1.200e+01, 9.000e+00,\n",
       "        5.000e+00, 5.000e+00, 3.000e+00, 2.000e+00, 5.000e+00, 3.000e+00,\n",
       "        2.000e+00, 0.000e+00, 0.000e+00, 1.000e+00, 0.000e+00, 1.000e+00]),\n",
       " array([1.46993528e-12, 2.16345059e-08, 4.32675420e-08, 6.49005780e-08,\n",
       "        8.65336140e-08, 1.08166650e-07, 1.29799686e-07, 1.51432722e-07,\n",
       "        1.73065758e-07, 1.94698794e-07, 2.16331830e-07, 2.37964866e-07,\n",
       "        2.59597902e-07, 2.81230938e-07, 3.02863974e-07, 3.24497010e-07,\n",
       "        3.46130046e-07, 3.67763082e-07, 3.89396118e-07, 4.11029154e-07,\n",
       "        4.32662190e-07, 4.54295226e-07, 4.75928262e-07, 4.97561298e-07,\n",
       "        5.19194334e-07, 5.40827370e-07, 5.62460406e-07, 5.84093442e-07,\n",
       "        6.05726478e-07, 6.27359514e-07, 6.48992550e-07]),\n",
       " <BarContainer object of 30 artists>)"
      ]
     },
     "execution_count": 113,
     "metadata": {},
     "output_type": "execute_result"
    },
    {
     "data": {
      "image/png": "[encoded data removed]",
      "text/plain": [
       "<Figure size 640x480 with 1 Axes>"
      ]
     },
     "metadata": {},
     "output_type": "display_data"
    }
   ],
   "source": [
    "import matplotlib.pyplot as plt\n",
    "plt.hist(hist, bins = 30, color='skyblue', edgecolor='black')"
   ]
  },
  {
   "cell_type": "code",
   "execution_count": 256,
   "metadata": {},
   "outputs": [],
   "source": [
    "import autograd.numpy as np\n",
    "from autograd import grad \n",
    "grad_func = grad(function)"
   ]
  }
 ],
 "metadata": {
  "kernelspec": {
   "display_name": "bachelor",
   "language": "python",
   "name": "python3"
  },
  "language_info": {
   "codemirror_mode": {
    "name": "ipython",
    "version": 3
   },
   "file_extension": ".py",
   "mimetype": "text/x-python",
   "name": "python",
   "nbconvert_exporter": "python",
   "pygments_lexer": "ipython3",
   "version": "3.9.18"
  }
 },
 "nbformat": 4,
 "nbformat_minor": 2
}
