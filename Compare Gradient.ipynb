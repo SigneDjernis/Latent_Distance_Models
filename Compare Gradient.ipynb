{
 "cells": [
  {
   "cell_type": "code",
   "execution_count": 2,
   "metadata": {},
   "outputs": [],
   "source": [
    "import numpy as np\n",
    "from scipy.optimize import check_grad\n",
    "\n",
    "Y = [[1, 1, 2],\n",
    "     [-1, 1, 3],\n",
    "     [-1, 1, 4],\n",
    "     [1, 2, 3],\n",
    "     [1, 2, 4],\n",
    "     [1, 3, 4]]\n",
    "\n",
    "# Test point\n",
    "mu = np.zeros(2) # Set mean (mu) as a zero vector\n",
    "cov_matrix = np.array([[1.0, 0.5], [0.5, 2.0]]) # Set covariance matrix\n",
    "size = (4, 2)  # Size of the sample (rows, columns)\n",
    "num_samples = 4 # Number of nodes\n"
   ]
  },
  {
   "cell_type": "code",
   "execution_count": 134,
   "metadata": {},
   "outputs": [],
   "source": [
    "def function(point_number_index):\n",
    "    sum = 0\n",
    "    alpha = 5\n",
    "    for m in range(len(Y)):\n",
    "        if ((Y[m][1] == 1) or (Y[m][2] == 1)):\n",
    "            distance = (point_number_index-point[Y[m][2]][0])**2 + (point[Y[m][1]][1]-point[Y[m][2]][1])**2\n",
    "            sum += np.log(1/(1+np.exp(-Y[m][0]*(alpha-distance))))\n",
    "    return sum\n",
    "\n",
    "\n",
    "def grad(point_number_index):\n",
    "    gradient = 0\n",
    "    alpha = 5\n",
    "    for m in range(len(Y)):\n",
    "        if ((Y[m][1] == 1) or (Y[m][2] == 1)): # Check to see if point_number is part of the edge\n",
    "            connection = Y[m][0] # Check to see if there is a connection\n",
    "            distance = (np.linalg.norm(point[Y[m][1]] - point[Y[m][2]]))**2 # Calculate the euclidean distance squared\n",
    "            point_index_diff = (point_number_index - point[Y[m][1]][0]) + (point_number_index - point[Y[m][2]][0]) # Calculate Points_a,i-Points_b,i\n",
    "            numerator = -2 * connection * point_index_diff * np.exp(-connection * (alpha - distance)) # Calculate the numerator\n",
    "            denominator = 1 + np.exp(-connection * (alpha - distance)) # Calculate the denominator\n",
    "            gradient += numerator / denominator # Calculate the fraction and plus all connection there is with point_number together\n",
    "    return gradient"
   ]
  },
  {
   "cell_type": "code",
   "execution_count": 135,
   "metadata": {},
   "outputs": [
    {
     "name": "stdout",
     "output_type": "stream",
     "text": [
      "Gradient error: 6.764253246416274e-08\n"
     ]
    }
   ],
   "source": [
    "# Check gradient\n",
    "epsilon = 1e-6\n",
    "point = {l+1: np.random.multivariate_normal(mu, cov_matrix) for l in range(num_samples)} # Generate points from a normal distribution\n",
    "error = check_grad(function, grad, point[1][0])\n",
    "print(\"Gradient error:\", error)"
   ]
  },
  {
   "cell_type": "code",
   "execution_count": 136,
   "metadata": {},
   "outputs": [],
   "source": [
    "hist = np.zeros(10000)\n",
    "for n in range(10000):\n",
    "    point = {l+1: np.random.multivariate_normal(mu, cov_matrix) for l in range(num_samples)}\n",
    "    hist[n] = check_grad(function, grad, point[1][0])"
   ]
  },
  {
   "cell_type": "code",
   "execution_count": 137,
   "metadata": {},
   "outputs": [
    {
     "data": {
      "text/plain": [
       "(array([4.348e+03, 2.615e+03, 1.394e+03, 7.060e+02, 3.720e+02, 2.100e+02,\n",
       "        9.200e+01, 7.500e+01, 5.600e+01, 3.200e+01, 2.000e+01, 2.300e+01,\n",
       "        9.000e+00, 5.000e+00, 8.000e+00, 1.000e+01, 4.000e+00, 9.000e+00,\n",
       "        3.000e+00, 2.000e+00, 1.000e+00, 1.000e+00, 0.000e+00, 2.000e+00,\n",
       "        1.000e+00, 0.000e+00, 0.000e+00, 1.000e+00, 0.000e+00, 1.000e+00]),\n",
       " array([3.66551234e-12, 2.82524408e-08, 5.65012160e-08, 8.47499912e-08,\n",
       "        1.12998766e-07, 1.41247542e-07, 1.69496317e-07, 1.97745092e-07,\n",
       "        2.25993867e-07, 2.54242643e-07, 2.82491418e-07, 3.10740193e-07,\n",
       "        3.38988968e-07, 3.67237744e-07, 3.95486519e-07, 4.23735294e-07,\n",
       "        4.51984069e-07, 4.80232845e-07, 5.08481620e-07, 5.36730395e-07,\n",
       "        5.64979170e-07, 5.93227946e-07, 6.21476721e-07, 6.49725496e-07,\n",
       "        6.77974271e-07, 7.06223047e-07, 7.34471822e-07, 7.62720597e-07,\n",
       "        7.90969372e-07, 8.19218148e-07, 8.47466923e-07]),\n",
       " <BarContainer object of 30 artists>)"
      ]
     },
     "execution_count": 137,
     "metadata": {},
     "output_type": "execute_result"
    },
    {
     "data": {
      "image/png": "[encoded data removed]",
      "text/plain": [
       "<Figure size 640x480 with 1 Axes>"
      ]
     },
     "metadata": {},
     "output_type": "display_data"
    }
   ],
   "source": [
    "import matplotlib.pyplot as plt\n",
    "plt.hist(hist, bins = 30, color='skyblue', edgecolor='black')"
   ]
  },
  {
   "cell_type": "code",
   "execution_count": 256,
   "metadata": {},
   "outputs": [],
   "source": [
    "import autograd.numpy as np\n",
    "from autograd import grad \n",
    "grad_func = grad(function)"
   ]
  }
 ],
 "metadata": {
  "kernelspec": {
   "display_name": "bachelor",
   "language": "python",
   "name": "python3"
  },
  "language_info": {
   "codemirror_mode": {
    "name": "ipython",
    "version": 3
   },
   "file_extension": ".py",
   "mimetype": "text/x-python",
   "name": "python",
   "nbconvert_exporter": "python",
   "pygments_lexer": "ipython3",
   "version": "3.9.18"
  }
 },
 "nbformat": 4,
 "nbformat_minor": 2
}
