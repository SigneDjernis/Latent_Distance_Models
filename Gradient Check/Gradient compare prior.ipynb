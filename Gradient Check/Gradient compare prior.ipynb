{
 "cells": [
  {
   "cell_type": "code",
   "execution_count": 2,
   "metadata": {},
   "outputs": [],
   "source": [
    "import sys\n",
    "sys.path.append('../') # Change path\n",
    "from Functions import * # Import Gradient_function\n",
    "import copy\n",
    "\n",
    "Y = [[1, 1, 2],\n",
    "     [-1, 1, 3],\n",
    "     [-1, 1, 4],\n",
    "     [1, 2, 3],\n",
    "     [1, 2, 4],\n",
    "     [1, 3, 4]]\n",
    "\n",
    "\n",
    "num_samples = 4  # Number of samples you want to generate\n",
    "dim = 2\n",
    "alpha = 5\n",
    "\n",
    "# Define mu and cov_matrix to be able to sample #num_samples samples from a multivariate normal distribution\n",
    "mu = np.zeros(dim)\n",
    "identity_matrix = np.eye(dim)\n",
    "cov_matrix = identity_matrix\n",
    "points = {l+1: np.random.multivariate_normal(mu, cov_matrix) for l in range(num_samples)}\n",
    "\n",
    "point_number = 1 # Point you want to test\n",
    "point_index = 0 # Index you want to test"
   ]
  },
  {
   "cell_type": "code",
   "execution_count": 7,
   "metadata": {},
   "outputs": [
    {
     "name": "stdout",
     "output_type": "stream",
     "text": [
      "-16.403179752103267\n",
      "-16.403849999150786\n",
      "-0.6692112008251411\n"
     ]
    },
    {
     "data": {
      "text/plain": [
       "-0.00103584669458201"
      ]
     },
     "execution_count": 7,
     "metadata": {},
     "output_type": "execute_result"
    }
   ],
   "source": [
    "# Function af x\n",
    "sum = Loss_function_prior_fast(points,Y,dim,alpha)\n",
    "print(sum)\n",
    "\n",
    "# Function af x+epsilon\n",
    "point_e = copy.deepcopy(points)\n",
    "point_e[point_number][point_index] += 0.001 # Update the point[1][0]\n",
    "sum_e = Loss_function_prior_fast(point_e,Y,dim,alpha)\n",
    "print(sum_e)\n",
    "\n",
    "# Gradient af x\n",
    "gradient = Gradient_function_prior_fast(point_number,dim,Y,points,alpha)[point_index]\n",
    "print(gradient)\n",
    "\n",
    "# Error\n",
    "(sum_e-sum)/0.001-(gradient)"
   ]
  },
  {
   "cell_type": "code",
   "execution_count": 8,
   "metadata": {},
   "outputs": [],
   "source": [
    "hist = np.zeros(1000) # Number of test\n",
    "for n in range(1000):\n",
    "    points = {l+1: np.random.multivariate_normal(mu, cov_matrix) for l in range(num_samples)} # Generate points from a normal distribution\n",
    "    \n",
    "    sum = Loss_function_prior_fast(points,Y,dim,alpha) # Function af x\n",
    "\n",
    "    point_e = copy.deepcopy(points)\n",
    "    point_e[point_number][point_index] += 0.001 # Update the point[1][0]\n",
    "    sum_e = Loss_function_prior_fast(point_e,Y,dim,alpha) # Function af x+epsilon\n",
    "    \n",
    "    gradient = Gradient_function_prior_fast(point_number,dim,Y,points,alpha)[point_index] # Gradient af x\n",
    "            \n",
    "    hist[n] = (sum_e-sum)/0.001-(gradient) # Error"
   ]
  },
  {
   "cell_type": "code",
   "execution_count": 9,
   "metadata": {},
   "outputs": [
    {
     "data": {
      "text/plain": [
       "(array([  1.,   0.,   3.,   2.,   1.,   0.,   3.,   4.,   5.,   7.,   6.,\n",
       "         12.,   8.,  21.,  24.,  23.,  28.,  45.,  55.,  43.,  49.,  64.,\n",
       "         67.,  63.,  65.,  73.,  70.,  43.,  74., 141.]),\n",
       " array([-0.00647661, -0.00621185, -0.00594709, -0.00568233, -0.00541757,\n",
       "        -0.00515281, -0.00488805, -0.00462329, -0.00435853, -0.00409377,\n",
       "        -0.00382901, -0.00356425, -0.00329949, -0.00303473, -0.00276997,\n",
       "        -0.00250521, -0.00224045, -0.00197569, -0.00171093, -0.00144617,\n",
       "        -0.0011814 , -0.00091664, -0.00065188, -0.00038712, -0.00012236,\n",
       "         0.0001424 ,  0.00040716,  0.00067192,  0.00093668,  0.00120144,\n",
       "         0.0014662 ]),\n",
       " <BarContainer object of 30 artists>)"
      ]
     },
     "execution_count": 9,
     "metadata": {},
     "output_type": "execute_result"
    },
    {
     "data": {
      "image/png": "[encoded data removed]",
      "text/plain": [
       "<Figure size 640x480 with 1 Axes>"
      ]
     },
     "metadata": {},
     "output_type": "display_data"
    }
   ],
   "source": [
    "import matplotlib.pyplot as plt\n",
    "plt.hist(hist, bins = 30, color='skyblue', edgecolor='black')"
   ]
  }
 ],
 "metadata": {
  "kernelspec": {
   "display_name": "bachelor",
   "language": "python",
   "name": "python3"
  },
  "language_info": {
   "codemirror_mode": {
    "name": "ipython",
    "version": 3
   },
   "file_extension": ".py",
   "mimetype": "text/x-python",
   "name": "python",
   "nbconvert_exporter": "python",
   "pygments_lexer": "ipython3",
   "version": "3.9.18"
  }
 },
 "nbformat": 4,
 "nbformat_minor": 2
}
