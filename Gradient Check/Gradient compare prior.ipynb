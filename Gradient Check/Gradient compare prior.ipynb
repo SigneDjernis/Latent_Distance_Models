{
 "cells": [
  {
   "cell_type": "code",
   "execution_count": 2,
   "metadata": {},
   "outputs": [],
   "source": [
    "import sys\n",
    "sys.path.append('../') # Change path\n",
    "from Functions import * # Import Gradient_function\n",
    "import copy\n",
    "\n",
    "Y = [[1, 1, 2],\n",
    "     [-1, 1, 3],\n",
    "     [-1, 1, 4],\n",
    "     [1, 2, 3],\n",
    "     [1, 2, 4],\n",
    "     [1, 3, 4]]\n",
    "\n",
    "\n",
    "num_samples = 4  # Number of samples you want to generate\n",
    "dim = 2\n",
    "alpha = 5\n",
    "\n",
    "# Define mu and cov_matrix to be able to sample #num_samples samples from a multivariate normal distribution\n",
    "mu = np.zeros(dim)\n",
    "identity_matrix = np.eye(dim)\n",
    "cov_matrix = identity_matrix\n",
    "points = {l+1: np.random.multivariate_normal(mu, cov_matrix) for l in range(num_samples)}\n",
    "\n",
    "point_number = 1 # Point you want to test\n",
    "point_index = 0 # Index you want to test"
   ]
  },
  {
   "cell_type": "code",
   "execution_count": 5,
   "metadata": {},
   "outputs": [
    {
     "name": "stdout",
     "output_type": "stream",
     "text": [
      "-9.192670873395365\n",
      "-9.19082814566768\n",
      "1.8439440219107843\n"
     ]
    },
    {
     "data": {
      "text/plain": [
       "-0.0012162942265496746"
      ]
     },
     "execution_count": 5,
     "metadata": {},
     "output_type": "execute_result"
    }
   ],
   "source": [
    "# Function af x\n",
    "sum = Loss_function_prior_fast(points,Y,dim,alpha)\n",
    "print(sum)\n",
    "\n",
    "# Function af x+epsilon\n",
    "point_e = copy.deepcopy(points)\n",
    "point_e[point_number][point_index] += 0.001 # Update the point[1][0]\n",
    "sum_e = Loss_function_prior_fast(point_e,Y,dim,alpha)\n",
    "print(sum_e)\n",
    "\n",
    "# Gradient af x\n",
    "gradient = Gradient_function_prior(point_number,point_index,Y,points,\"norm\",alpha)\n",
    "print(gradient)\n",
    "\n",
    "# Error\n",
    "(sum_e-sum)/0.001-(gradient)"
   ]
  },
  {
   "cell_type": "code",
   "execution_count": 6,
   "metadata": {},
   "outputs": [],
   "source": [
    "hist = np.zeros(1000) # Number of test\n",
    "for n in range(1000):\n",
    "    points = {l+1: np.random.multivariate_normal(mu, cov_matrix) for l in range(num_samples)} # Generate points from a normal distribution\n",
    "    \n",
    "    sum = Loss_function_prior_fast(points,Y,dim,alpha) # Function af x\n",
    "\n",
    "    point_e = copy.deepcopy(points)\n",
    "    point_e[point_number][point_index] += 0.001 # Update the point[1][0]\n",
    "    sum_e = Loss_function_prior_fast(point_e,Y,dim,alpha) # Function af x+epsilon\n",
    "    \n",
    "    gradient = Gradient_function_prior(point_number,point_index,Y,points,\"norm\",alpha) # Gradient af x\n",
    "            \n",
    "    hist[n] = (sum_e-sum)/0.001-(gradient) # Error"
   ]
  },
  {
   "cell_type": "code",
   "execution_count": 7,
   "metadata": {},
   "outputs": [
    {
     "data": {
      "text/plain": [
       "(array([  2.,   1.,   1.,   1.,   1.,   5.,   5.,   3.,   7.,  11.,   8.,\n",
       "         14.,   8.,  25.,  17.,  35.,  31.,  61.,  45.,  41.,  52.,  54.,\n",
       "         42.,  61.,  58.,  92.,  40.,  62.,  81., 136.]),\n",
       " array([-5.83253205e-03, -5.58915886e-03, -5.34578568e-03, -5.10241249e-03,\n",
       "        -4.85903930e-03, -4.61566612e-03, -4.37229293e-03, -4.12891975e-03,\n",
       "        -3.88554656e-03, -3.64217338e-03, -3.39880019e-03, -3.15542700e-03,\n",
       "        -2.91205382e-03, -2.66868063e-03, -2.42530745e-03, -2.18193426e-03,\n",
       "        -1.93856107e-03, -1.69518789e-03, -1.45181470e-03, -1.20844152e-03,\n",
       "        -9.65068331e-04, -7.21695145e-04, -4.78321959e-04, -2.34948773e-04,\n",
       "         8.42441274e-06,  2.51797599e-04,  4.95170784e-04,  7.38543970e-04,\n",
       "         9.81917156e-04,  1.22529034e-03,  1.46866353e-03]),\n",
       " <BarContainer object of 30 artists>)"
      ]
     },
     "execution_count": 7,
     "metadata": {},
     "output_type": "execute_result"
    },
    {
     "data": {
      "image/png": "[encoded data removed]",
      "text/plain": [
       "<Figure size 640x480 with 1 Axes>"
      ]
     },
     "metadata": {},
     "output_type": "display_data"
    }
   ],
   "source": [
    "import matplotlib.pyplot as plt\n",
    "plt.hist(hist, bins = 30, color='skyblue', edgecolor='black')"
   ]
  }
 ],
 "metadata": {
  "kernelspec": {
   "display_name": "bachelor",
   "language": "python",
   "name": "python3"
  },
  "language_info": {
   "codemirror_mode": {
    "name": "ipython",
    "version": 3
   },
   "file_extension": ".py",
   "mimetype": "text/x-python",
   "name": "python",
   "nbconvert_exporter": "python",
   "pygments_lexer": "ipython3",
   "version": "3.9.18"
  }
 },
 "nbformat": 4,
 "nbformat_minor": 2
}
