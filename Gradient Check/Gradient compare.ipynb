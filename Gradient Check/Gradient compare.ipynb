{
 "cells": [
  {
   "cell_type": "code",
   "execution_count": 92,
   "metadata": {},
   "outputs": [],
   "source": [
    "import numpy as np\n",
    "from scipy.optimize import check_grad\n",
    "import copy\n",
    "\n",
    "Y = [[1, 1, 2],\n",
    "     [-1, 1, 3],\n",
    "     [-1, 1, 4],\n",
    "     [1, 2, 3],\n",
    "     [1, 2, 4],\n",
    "     [1, 3, 4]]\n",
    "\n",
    "\n",
    "mu = np.zeros(2) # mean (mu) as a zero vector\n",
    "cov_matrix = np.array([[1.0, 0.5], [0.5, 2.0]]) # covariance matrix\n",
    "num_samples = 4  # Number of samples you want to generate\n",
    "alpha = 5 # Define alpha\n",
    "\n",
    "point_number = 1 # Point you want to test\n",
    "point_index = 0 # Index you want to test\n",
    "\n",
    "points = {l+1: np.random.multivariate_normal(mu, cov_matrix) for l in range(num_samples)} # Generate points"
   ]
  },
  {
   "cell_type": "code",
   "execution_count": 93,
   "metadata": {},
   "outputs": [],
   "source": [
    "def function(point):\n",
    "    sum = 0\n",
    "    for edge_m in range(len(Y)):\n",
    "        connection = Y[edge_m][0] # Check to see if point_number is part of the edge\n",
    "        point_1 = point[Y[edge_m][1]]\n",
    "        point_2 = point[Y[edge_m][2]]\n",
    "        norm_distance_squared = np.linalg.norm(point_1 - point_2) ** 2\n",
    "        exponent = -connection * (alpha - norm_distance_squared)\n",
    "        sigmoid_value = 1 / (1 + np.exp(exponent))\n",
    "        sum += np.log(sigmoid_value)\n",
    "    return sum\n",
    "\n",
    "def grad(point_number, index_i, point):\n",
    "    gradient = 0\n",
    "    for edge_m in range(len(Y)):\n",
    "        if ((Y[edge_m][1] == point_number) or (Y[edge_m][2] == point_number)): # Check to see if point_number is part of the edge\n",
    "            connection = Y[edge_m][0] # Check to see if point_number is part of the edge\n",
    "            point_1 = point[Y[edge_m][1]]\n",
    "            point_2 = point[Y[edge_m][2]]\n",
    "            distance = (np.linalg.norm(point_1 - point_2))**2\n",
    "    \n",
    "            numerator = -2 * connection * (point_1[index_i] - point_2[index_i]) * np.exp(-connection * (alpha - distance))\n",
    "            denominator = 1 + np.exp(-connection * (alpha - distance))\n",
    "            gradient += numerator / denominator\n",
    "    return gradient\n"
   ]
  },
  {
   "cell_type": "code",
   "execution_count": 94,
   "metadata": {},
   "outputs": [
    {
     "name": "stdout",
     "output_type": "stream",
     "text": [
      "-7.809507322059028\n",
      "-7.806882159511672\n",
      "2.623303646181747\n"
     ]
    },
    {
     "data": {
      "text/plain": [
       "0.0018589011743719297"
      ]
     },
     "execution_count": 94,
     "metadata": {},
     "output_type": "execute_result"
    }
   ],
   "source": [
    "# Function af x\n",
    "sum = function(points)\n",
    "print(sum)\n",
    "\n",
    "# Function af x+epsilon\n",
    "point_e = copy.deepcopy(points)\n",
    "point_e[point_number][point_index] += 0.001\n",
    "sum_e = function(point_e)\n",
    "print(sum_e)\n",
    "\n",
    "# Gradient af x\n",
    "gradient = grad(point_number,point_index,points)\n",
    "print(gradient)\n",
    "\n",
    "# Error\n",
    "(sum_e-sum)/0.001-(gradient)"
   ]
  },
  {
   "cell_type": "code",
   "execution_count": 95,
   "metadata": {},
   "outputs": [],
   "source": [
    "hist = np.zeros(1000)\n",
    "for n in range(1000):\n",
    "    points = {l+1: np.random.multivariate_normal(mu, cov_matrix) for l in range(num_samples)}\n",
    "    \n",
    "    sum = function(points)\n",
    "\n",
    "    point_e = copy.deepcopy(points)\n",
    "    point_e[point_number][point_index] += 0.001\n",
    "    sum_e = function(point_e)\n",
    "    \n",
    "    gradient = grad(point_number,point_index,points)\n",
    "            \n",
    "    hist[n] = (sum_e-sum)/0.001-(gradient)"
   ]
  },
  {
   "cell_type": "code",
   "execution_count": 96,
   "metadata": {},
   "outputs": [
    {
     "data": {
      "text/plain": [
       "(array([  1.,   0.,   1.,   2.,   1.,   3.,   2.,   3.,   3.,   6.,  12.,\n",
       "          9.,   9.,  19.,  21.,  36.,  31.,  73.,  49.,  59.,  70., 111.,\n",
       "         57.,  63.,  69.,  98.,  40.,  30.,  43.,  79.]),\n",
       " array([-5.25380791e-03, -5.01280493e-03, -4.77180195e-03, -4.53079898e-03,\n",
       "        -4.28979600e-03, -4.04879302e-03, -3.80779004e-03, -3.56678706e-03,\n",
       "        -3.32578408e-03, -3.08478111e-03, -2.84377813e-03, -2.60277515e-03,\n",
       "        -2.36177217e-03, -2.12076919e-03, -1.87976621e-03, -1.63876324e-03,\n",
       "        -1.39776026e-03, -1.15675728e-03, -9.15754300e-04, -6.74751322e-04,\n",
       "        -4.33748344e-04, -1.92745365e-04,  4.82576131e-05,  2.89260592e-04,\n",
       "         5.30263570e-04,  7.71266548e-04,  1.01226953e-03,  1.25327251e-03,\n",
       "         1.49427548e-03,  1.73527846e-03,  1.97628144e-03]),\n",
       " <BarContainer object of 30 artists>)"
      ]
     },
     "execution_count": 96,
     "metadata": {},
     "output_type": "execute_result"
    },
    {
     "data": {
      "image/png": "[encoded data removed]",
      "text/plain": [
       "<Figure size 640x480 with 1 Axes>"
      ]
     },
     "metadata": {},
     "output_type": "display_data"
    }
   ],
   "source": [
    "import matplotlib.pyplot as plt\n",
    "plt.hist(hist, bins = 30, color='skyblue', edgecolor='black')"
   ]
  }
 ],
 "metadata": {
  "kernelspec": {
   "display_name": "bachelor",
   "language": "python",
   "name": "python3"
  },
  "language_info": {
   "codemirror_mode": {
    "name": "ipython",
    "version": 3
   },
   "file_extension": ".py",
   "mimetype": "text/x-python",
   "name": "python",
   "nbconvert_exporter": "python",
   "pygments_lexer": "ipython3",
   "version": "3.9.18"
  }
 },
 "nbformat": 4,
 "nbformat_minor": 2
}
