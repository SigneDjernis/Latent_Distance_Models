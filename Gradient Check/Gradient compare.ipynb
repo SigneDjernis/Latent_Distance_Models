{
 "cells": [
  {
   "cell_type": "code",
   "execution_count": 1,
   "metadata": {},
   "outputs": [
    {
     "name": "stdout",
     "output_type": "stream",
     "text": [
      "Intel MKL WARNING: Support of Intel(R) Streaming SIMD Extensions 4.2 (Intel(R) SSE4.2) enabled only processors has been deprecated. Intel oneAPI Math Kernel Library 2025.0 will require Intel(R) Advanced Vector Extensions (Intel(R) AVX) instructions.\n",
      "Intel MKL WARNING: Support of Intel(R) Streaming SIMD Extensions 4.2 (Intel(R) SSE4.2) enabled only processors has been deprecated. Intel oneAPI Math Kernel Library 2025.0 will require Intel(R) Advanced Vector Extensions (Intel(R) AVX) instructions.\n"
     ]
    }
   ],
   "source": [
    "# Import packages and Functions.py\n",
    "import sys\n",
    "sys.path.append('../')\n",
    "from Functions import *\n",
    "import copy\n",
    "\n",
    "Y = [[1, 1, 2],\n",
    "     [-1, 1, 3],\n",
    "     [-1, 1, 4],\n",
    "     [1, 2, 3],\n",
    "     [1, 2, 4],\n",
    "     [1, 3, 4]]\n",
    "\n",
    "# Define the model parameters\n",
    "num_samples = 4\n",
    "dim = 2\n",
    "alpha = 5\n",
    "\n",
    "# Define mu and cov_matrix to be able to sample #num_samples samples from a multivariate normal distribution with dimension dim\n",
    "mu = np.zeros(dim)\n",
    "identity_matrix = np.eye(dim)\n",
    "cov_matrix = identity_matrix\n",
    "points = {l+1: np.random.multivariate_normal(mu, cov_matrix) for l in range(num_samples)}\n",
    "\n",
    "point_number = 1 # Point you want to test\n",
    "point_index = 0 # Index you want to test"
   ]
  },
  {
   "cell_type": "code",
   "execution_count": 2,
   "metadata": {},
   "outputs": [
    {
     "name": "stdout",
     "output_type": "stream",
     "text": [
      "-1.7596492046688779\n",
      "-1.7573464381878523\n",
      "2.306022620552245\n"
     ]
    },
    {
     "data": {
      "text/plain": [
       "-0.0032561395266808013"
      ]
     },
     "execution_count": 2,
     "metadata": {},
     "output_type": "execute_result"
    }
   ],
   "source": [
    "# Function af x\n",
    "sum = Loss_function_fast(points,Y,alpha)\n",
    "print(sum)\n",
    "\n",
    "# Function af x+epsilon\n",
    "point_e = copy.deepcopy(points)\n",
    "point_e[point_number][point_index] += 0.001 # Update the point[1][0]\n",
    "sum_e = Loss_function_fast(point_e,Y,alpha)\n",
    "print(sum_e)\n",
    "\n",
    "# Gradient af x\n",
    "gradient = Gradient_function_fast(point_number,dim,Y,points,alpha)[point_index]\n",
    "print(gradient)\n",
    "\n",
    "# Error\n",
    "(sum_e-sum)/0.001-(gradient)"
   ]
  },
  {
   "cell_type": "code",
   "execution_count": 3,
   "metadata": {},
   "outputs": [],
   "source": [
    "hist = np.zeros(1000) # Number of test\n",
    "for n in range(1000):\n",
    "    points = {l+1: np.random.multivariate_normal(mu, cov_matrix) for l in range(num_samples)} # Generate points from a normal distribution\n",
    "    \n",
    "    sum = Loss_function_fast(points,Y,alpha) # Function af x\n",
    "\n",
    "    point_e = copy.deepcopy(points)\n",
    "    point_e[point_number][point_index] += 0.001 # Update the point[1][0]\n",
    "    sum_e = Loss_function_fast(point_e,Y,alpha) # Function af x+epsilon\n",
    "    \n",
    "    gradient = Gradient_function_fast(point_number,dim,Y,points,alpha)[point_index] # Gradient af x\n",
    "            \n",
    "    hist[n] = (sum_e-sum)/0.001-(gradient) # Error"
   ]
  },
  {
   "cell_type": "code",
   "execution_count": 4,
   "metadata": {},
   "outputs": [
    {
     "data": {
      "text/plain": [
       "(array([  2.,   0.,   1.,   1.,   5.,   5.,   7.,   4.,   5.,   9.,  12.,\n",
       "         10.,  18.,  21.,  19.,  32.,  35.,  58.,  46.,  46.,  58.,  47.,\n",
       "         53.,  62.,  58.,  78.,  51.,  38.,  77., 142.]),\n",
       " array([-5.31252567e-03, -5.06976601e-03, -4.82700635e-03, -4.58424670e-03,\n",
       "        -4.34148704e-03, -4.09872738e-03, -3.85596773e-03, -3.61320807e-03,\n",
       "        -3.37044841e-03, -3.12768876e-03, -2.88492910e-03, -2.64216944e-03,\n",
       "        -2.39940979e-03, -2.15665013e-03, -1.91389047e-03, -1.67113082e-03,\n",
       "        -1.42837116e-03, -1.18561150e-03, -9.42851846e-04, -7.00092189e-04,\n",
       "        -4.57332532e-04, -2.14572875e-04,  2.81867813e-05,  2.70946438e-04,\n",
       "         5.13706095e-04,  7.56465752e-04,  9.99225408e-04,  1.24198507e-03,\n",
       "         1.48474472e-03,  1.72750438e-03,  1.97026404e-03]),\n",
       " <BarContainer object of 30 artists>)"
      ]
     },
     "execution_count": 4,
     "metadata": {},
     "output_type": "execute_result"
    },
    {
     "data": {
      "image/png": "[encoded data removed]",
      "text/plain": [
       "<Figure size 640x480 with 1 Axes>"
      ]
     },
     "metadata": {},
     "output_type": "display_data"
    }
   ],
   "source": [
    "import matplotlib.pyplot as plt\n",
    "plt.hist(hist, bins = 30, color='skyblue', edgecolor='black')"
   ]
  }
 ],
 "metadata": {
  "kernelspec": {
   "display_name": "bachelor",
   "language": "python",
   "name": "python3"
  },
  "language_info": {
   "codemirror_mode": {
    "name": "ipython",
    "version": 3
   },
   "file_extension": ".py",
   "mimetype": "text/x-python",
   "name": "python",
   "nbconvert_exporter": "python",
   "pygments_lexer": "ipython3",
   "version": "3.9.18"
  }
 },
 "nbformat": 4,
 "nbformat_minor": 2
}
