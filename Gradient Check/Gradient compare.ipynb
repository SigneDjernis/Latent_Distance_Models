{
 "cells": [
  {
   "cell_type": "code",
   "execution_count": 29,
   "metadata": {},
   "outputs": [],
   "source": [
    "import sys\n",
    "sys.path.append('../') # Change path\n",
    "from Functions import * # Import Gradient_function\n",
    "import copy\n",
    "\n",
    "Y = [[1, 1, 2],\n",
    "     [-1, 1, 3],\n",
    "     [-1, 1, 4],\n",
    "     [1, 2, 3],\n",
    "     [1, 2, 4],\n",
    "     [1, 3, 4]]\n",
    "\n",
    "\n",
    "mu = np.zeros(2) # mean (mu) as a zero vector\n",
    "cov_matrix = np.array([[1.0, 0.5], [0.5, 2.0]]) # covariance matrix\n",
    "num_samples = 4  # Number of samples you want to generate\n",
    "\n",
    "point_number = 1 # Point you want to test\n",
    "point_index = 0 # Index you want to test\n",
    "\n",
    "points = {l+1: np.random.multivariate_normal(mu, cov_matrix) for l in range(num_samples)} # Generate points"
   ]
  },
  {
   "cell_type": "code",
   "execution_count": 30,
   "metadata": {},
   "outputs": [
    {
     "name": "stdout",
     "output_type": "stream",
     "text": [
      "-12.132829374880586\n",
      "-12.133304782462908\n",
      "-0.4754383933746604\n"
     ]
    },
    {
     "data": {
      "text/plain": [
       "3.0811053208290584e-05"
      ]
     },
     "execution_count": 30,
     "metadata": {},
     "output_type": "execute_result"
    }
   ],
   "source": [
    "# Function af x\n",
    "sum = Loss_function(points,Y)\n",
    "print(sum)\n",
    "\n",
    "# Function af x+epsilon\n",
    "point_e = copy.deepcopy(points)\n",
    "point_e[point_number][point_index] += 0.001 # Update the point[1][0]\n",
    "sum_e = Loss_function(point_e,Y)\n",
    "print(sum_e)\n",
    "\n",
    "# Gradient af x\n",
    "gradient = Gradient_function(point_number,point_index,Y,points)\n",
    "print(gradient)\n",
    "\n",
    "# Error\n",
    "(sum_e-sum)/0.001-(gradient)"
   ]
  },
  {
   "cell_type": "code",
   "execution_count": 31,
   "metadata": {},
   "outputs": [],
   "source": [
    "hist = np.zeros(1000) # Number of test\n",
    "for n in range(1000):\n",
    "    points = {l+1: np.random.multivariate_normal(mu, cov_matrix) for l in range(num_samples)} # Generate points from a normal distribution\n",
    "    \n",
    "    sum = function(points) # Function af x\n",
    "\n",
    "    point_e = copy.deepcopy(points)\n",
    "    point_e[point_number][point_index] += 0.001 # Update the point[1][0]\n",
    "    sum_e = function(point_e) # Function af x+epsilon\n",
    "    \n",
    "    gradient = grad(point_number,point_index,points) # Gradient af x\n",
    "            \n",
    "    hist[n] = (sum_e-sum)/0.001-(gradient) # Error"
   ]
  },
  {
   "cell_type": "code",
   "execution_count": 32,
   "metadata": {},
   "outputs": [
    {
     "data": {
      "text/plain": [
       "(array([ 2.,  1.,  0.,  3.,  1.,  5.,  5.,  2.,  8.,  7.,  4., 18., 19.,\n",
       "        17., 31., 35., 56., 73., 45., 50., 72., 88., 51., 55., 80., 80.,\n",
       "        35., 42., 44., 71.]),\n",
       " array([-0.0049399 , -0.00470976, -0.00447963, -0.00424949, -0.00401935,\n",
       "        -0.00378921, -0.00355907, -0.00332893, -0.00309879, -0.00286865,\n",
       "        -0.00263851, -0.00240837, -0.00217823, -0.00194809, -0.00171796,\n",
       "        -0.00148782, -0.00125768, -0.00102754, -0.0007974 , -0.00056726,\n",
       "        -0.00033712, -0.00010698,  0.00012316,  0.0003533 ,  0.00058344,\n",
       "         0.00081358,  0.00104372,  0.00127385,  0.00150399,  0.00173413,\n",
       "         0.00196427]),\n",
       " <BarContainer object of 30 artists>)"
      ]
     },
     "execution_count": 32,
     "metadata": {},
     "output_type": "execute_result"
    },
    {
     "data": {
      "image/png": "[encoded data removed]",
      "text/plain": [
       "<Figure size 640x480 with 1 Axes>"
      ]
     },
     "metadata": {},
     "output_type": "display_data"
    }
   ],
   "source": [
    "import matplotlib.pyplot as plt\n",
    "plt.hist(hist, bins = 30, color='skyblue', edgecolor='black')"
   ]
  }
 ],
 "metadata": {
  "kernelspec": {
   "display_name": "bachelor",
   "language": "python",
   "name": "python3"
  },
  "language_info": {
   "codemirror_mode": {
    "name": "ipython",
    "version": 3
   },
   "file_extension": ".py",
   "mimetype": "text/x-python",
   "name": "python",
   "nbconvert_exporter": "python",
   "pygments_lexer": "ipython3",
   "version": "3.9.18"
  }
 },
 "nbformat": 4,
 "nbformat_minor": 2
}
