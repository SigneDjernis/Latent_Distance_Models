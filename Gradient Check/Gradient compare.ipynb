{
 "cells": [
  {
   "cell_type": "code",
   "execution_count": 12,
   "metadata": {},
   "outputs": [],
   "source": [
    "import sys\n",
    "sys.path.append('../') # Change path\n",
    "from Functions import * # Import Gradient_function\n",
    "import copy\n",
    "\n",
    "Y = [[1, 1, 2],\n",
    "     [-1, 1, 3],\n",
    "     [-1, 1, 4],\n",
    "     [1, 2, 3],\n",
    "     [1, 2, 4],\n",
    "     [1, 3, 4]]\n",
    "\n",
    "\n",
    "num_samples = 4  # Number of samples you want to generate\n",
    "dim = 2\n",
    "alpha = 5\n",
    "\n",
    "# Define mu and cov_matrix to be able to sample #num_samples samples from a multivariate normal distribution\n",
    "mu = np.zeros(dim)\n",
    "identity_matrix = np.eye(dim)\n",
    "cov_matrix = identity_matrix\n",
    "points = {l+1: np.random.multivariate_normal(mu, cov_matrix) for l in range(num_samples)}\n",
    "\n",
    "point_number = 1 # Point you want to test\n",
    "point_index = 0 # Index you want to test"
   ]
  },
  {
   "cell_type": "code",
   "execution_count": 13,
   "metadata": {},
   "outputs": [
    {
     "name": "stdout",
     "output_type": "stream",
     "text": [
      "-7.08990427511037\n",
      "-7.091743805452887\n",
      "-1.8377953345450462\n"
     ]
    },
    {
     "data": {
      "text/plain": [
       "-0.0017350079718911893"
      ]
     },
     "execution_count": 13,
     "metadata": {},
     "output_type": "execute_result"
    }
   ],
   "source": [
    "# Function af x\n",
    "sum = Loss_function_fast(points,Y,alpha)\n",
    "print(sum)\n",
    "\n",
    "# Function af x+epsilon\n",
    "point_e = copy.deepcopy(points)\n",
    "point_e[point_number][point_index] += 0.001 # Update the point[1][0]\n",
    "sum_e = Loss_function_fast(point_e,Y,alpha)\n",
    "print(sum_e)\n",
    "\n",
    "# Gradient af x\n",
    "gradient = Gradient_function(point_number,point_index,Y,points,\"norm\",alpha)\n",
    "print(gradient)\n",
    "\n",
    "# Error\n",
    "(sum_e-sum)/0.001-(gradient)"
   ]
  },
  {
   "cell_type": "code",
   "execution_count": 14,
   "metadata": {},
   "outputs": [],
   "source": [
    "hist = np.zeros(1000) # Number of test\n",
    "for n in range(1000):\n",
    "    points = {l+1: np.random.multivariate_normal(mu, cov_matrix) for l in range(num_samples)} # Generate points from a normal distribution\n",
    "    \n",
    "    sum = Loss_function_fast(points,Y,alpha) # Function af x\n",
    "\n",
    "    point_e = copy.deepcopy(points)\n",
    "    point_e[point_number][point_index] += 0.001 # Update the point[1][0]\n",
    "    sum_e = Loss_function_fast(point_e,Y,alpha) # Function af x+epsilon\n",
    "    \n",
    "    gradient = Gradient_function(point_number,point_index,Y,points,\"norm\",alpha) # Gradient af x\n",
    "            \n",
    "    hist[n] = (sum_e-sum)/0.001-(gradient) # Error"
   ]
  },
  {
   "cell_type": "code",
   "execution_count": 15,
   "metadata": {},
   "outputs": [
    {
     "data": {
      "text/plain": [
       "(array([  2.,   0.,   1.,   4.,   4.,   7.,   5.,   9.,  10.,   8.,  10.,\n",
       "         10.,  19.,  21.,  20.,  25.,  35.,  41.,  35.,  42.,  58.,  68.,\n",
       "         50.,  48.,  88.,  92.,  55.,  53.,  58., 122.]),\n",
       " array([-5.42012470e-03, -5.17360739e-03, -4.92709008e-03, -4.68057277e-03,\n",
       "        -4.43405546e-03, -4.18753815e-03, -3.94102084e-03, -3.69450353e-03,\n",
       "        -3.44798622e-03, -3.20146891e-03, -2.95495160e-03, -2.70843429e-03,\n",
       "        -2.46191699e-03, -2.21539968e-03, -1.96888237e-03, -1.72236506e-03,\n",
       "        -1.47584775e-03, -1.22933044e-03, -9.82813130e-04, -7.36295821e-04,\n",
       "        -4.89778512e-04, -2.43261203e-04,  3.25610654e-06,  2.49773416e-04,\n",
       "         4.96290725e-04,  7.42808034e-04,  9.89325343e-04,  1.23584265e-03,\n",
       "         1.48235996e-03,  1.72887727e-03,  1.97539458e-03]),\n",
       " <BarContainer object of 30 artists>)"
      ]
     },
     "execution_count": 15,
     "metadata": {},
     "output_type": "execute_result"
    },
    {
     "data": {
      "image/png": "[encoded data removed]",
      "text/plain": [
       "<Figure size 640x480 with 1 Axes>"
      ]
     },
     "metadata": {},
     "output_type": "display_data"
    }
   ],
   "source": [
    "import matplotlib.pyplot as plt\n",
    "plt.hist(hist, bins = 30, color='skyblue', edgecolor='black')"
   ]
  }
 ],
 "metadata": {
  "kernelspec": {
   "display_name": "bachelor",
   "language": "python",
   "name": "python3"
  },
  "language_info": {
   "codemirror_mode": {
    "name": "ipython",
    "version": 3
   },
   "file_extension": ".py",
   "mimetype": "text/x-python",
   "name": "python",
   "nbconvert_exporter": "python",
   "pygments_lexer": "ipython3",
   "version": "3.9.18"
  }
 },
 "nbformat": 4,
 "nbformat_minor": 2
}
