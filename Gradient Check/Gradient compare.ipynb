{
 "cells": [
  {
   "cell_type": "code",
   "execution_count": 19,
   "metadata": {},
   "outputs": [],
   "source": [
    "import sys\n",
    "sys.path.append('../') # Change path\n",
    "from Functions import * # Import Gradient_function\n",
    "import copy\n",
    "\n",
    "Y = [[1, 1, 2],\n",
    "     [-1, 1, 3],\n",
    "     [-1, 1, 4],\n",
    "     [1, 2, 3],\n",
    "     [1, 2, 4],\n",
    "     [1, 3, 4]]\n",
    "\n",
    "\n",
    "mu = np.zeros(2) # mean (mu) as a zero vector\n",
    "cov_matrix = np.array([[1.0, 0.5], [0.5, 2.0]]) # covariance matrix\n",
    "num_samples = 4  # Number of samples you want to generate\n",
    "\n",
    "point_number = 1 # Point you want to test\n",
    "point_index = 0 # Index you want to test\n",
    "\n",
    "points = {l+1: np.random.multivariate_normal(mu, cov_matrix) for l in range(num_samples)} # Generate points"
   ]
  },
  {
   "cell_type": "code",
   "execution_count": 20,
   "metadata": {},
   "outputs": [
    {
     "name": "stdout",
     "output_type": "stream",
     "text": [
      "-14.010219275601166\n",
      "-14.006404088026994\n",
      "3.816340741196239\n"
     ]
    },
    {
     "data": {
      "text/plain": [
       "-0.001153167023698387"
      ]
     },
     "execution_count": 20,
     "metadata": {},
     "output_type": "execute_result"
    }
   ],
   "source": [
    "# Function af x\n",
    "sum = Loss_function(points,Y)\n",
    "print(sum)\n",
    "\n",
    "# Function af x+epsilon\n",
    "point_e = copy.deepcopy(points)\n",
    "point_e[point_number][point_index] += 0.001 # Update the point[1][0]\n",
    "sum_e = Loss_function(point_e,Y)\n",
    "print(sum_e)\n",
    "\n",
    "# Gradient af x\n",
    "gradient = Gradient_function(point_number,point_index,Y,points)\n",
    "print(gradient)\n",
    "\n",
    "# Error\n",
    "(sum_e-sum)/0.001-(gradient)"
   ]
  },
  {
   "cell_type": "code",
   "execution_count": 23,
   "metadata": {},
   "outputs": [],
   "source": [
    "hist = np.zeros(1000) # Number of test\n",
    "for n in range(1000):\n",
    "    points = {l+1: np.random.multivariate_normal(mu, cov_matrix) for l in range(num_samples)} # Generate points from a normal distribution\n",
    "    \n",
    "    sum = Loss_function(points,Y) # Function af x\n",
    "\n",
    "    point_e = copy.deepcopy(points)\n",
    "    point_e[point_number][point_index] += 0.001 # Update the point[1][0]\n",
    "    sum_e = Loss_function(point_e,Y) # Function af x+epsilon\n",
    "    \n",
    "    gradient = Gradient_function(point_number,point_index,Y,points) # Gradient af x\n",
    "            \n",
    "    hist[n] = (sum_e-sum)/0.001-(gradient) # Error"
   ]
  },
  {
   "cell_type": "code",
   "execution_count": 24,
   "metadata": {},
   "outputs": [
    {
     "data": {
      "text/plain": [
       "(array([ 3.,  2.,  2.,  3.,  3.,  1.,  3.,  9.,  8.,  6., 13., 11., 15.,\n",
       "        22., 25., 37., 87., 44., 55., 71., 79., 66., 49., 57., 73., 83.,\n",
       "        36., 33., 38., 66.]),\n",
       " array([-4.72294993e-03, -4.49969586e-03, -4.27644178e-03, -4.05318771e-03,\n",
       "        -3.82993364e-03, -3.60667956e-03, -3.38342549e-03, -3.16017142e-03,\n",
       "        -2.93691734e-03, -2.71366327e-03, -2.49040920e-03, -2.26715512e-03,\n",
       "        -2.04390105e-03, -1.82064698e-03, -1.59739290e-03, -1.37413883e-03,\n",
       "        -1.15088476e-03, -9.27630684e-04, -7.04376610e-04, -4.81122537e-04,\n",
       "        -2.57868464e-04, -3.46143903e-05,  1.88639683e-04,  4.11893756e-04,\n",
       "         6.35147830e-04,  8.58401903e-04,  1.08165598e-03,  1.30491005e-03,\n",
       "         1.52816412e-03,  1.75141820e-03,  1.97467227e-03]),\n",
       " <BarContainer object of 30 artists>)"
      ]
     },
     "execution_count": 24,
     "metadata": {},
     "output_type": "execute_result"
    },
    {
     "data": {
      "image/png": "[encoded data removed]",
      "text/plain": [
       "<Figure size 640x480 with 1 Axes>"
      ]
     },
     "metadata": {},
     "output_type": "display_data"
    }
   ],
   "source": [
    "import matplotlib.pyplot as plt\n",
    "plt.hist(hist, bins = 30, color='skyblue', edgecolor='black')"
   ]
  }
 ],
 "metadata": {
  "kernelspec": {
   "display_name": "bachelor",
   "language": "python",
   "name": "python3"
  },
  "language_info": {
   "codemirror_mode": {
    "name": "ipython",
    "version": 3
   },
   "file_extension": ".py",
   "mimetype": "text/x-python",
   "name": "python",
   "nbconvert_exporter": "python",
   "pygments_lexer": "ipython3",
   "version": "3.9.18"
  }
 },
 "nbformat": 4,
 "nbformat_minor": 2
}
