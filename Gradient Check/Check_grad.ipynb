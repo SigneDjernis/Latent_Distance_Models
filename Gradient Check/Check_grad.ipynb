{
 "cells": [
  {
   "cell_type": "code",
   "execution_count": 2,
   "metadata": {},
   "outputs": [],
   "source": [
    "import numpy as np\n",
    "from scipy.optimize import check_grad\n",
    "import math\n",
    "\n",
    "Y = [[1, 1, 2],\n",
    "     [-1, 1, 3],\n",
    "     [-1, 1, 4],\n",
    "     [1, 2, 3],\n",
    "     [1, 2, 4],\n",
    "     [1, 3, 4]]\n",
    "\n",
    "# Parameters for the normal distribution\n",
    "mean = 0  # Mean of the distribution\n",
    "std_dev = 1  # Standard deviation of the distribution\n",
    "size = (4, 2)  # Size of the sample (rows, columns)"
   ]
  },
  {
   "cell_type": "code",
   "execution_count": 3,
   "metadata": {},
   "outputs": [],
   "source": [
    "def function(point):\n",
    "    alpha = 5\n",
    "    sum = np.zeros(len(point))\n",
    "    for i in range(len(point)):\n",
    "        point_number = i//2+1 # Converge i to the point number\n",
    "\n",
    "        for m in range(len(Y)):\n",
    "            connection = Y[m][0] # Check to see if there is a connection\n",
    "            distance = (np.linalg.norm(point[Y[m][1]-1] - point[Y[m][2]-1]))**2 # Calculate the euclidean distance squared\n",
    "            sum[i] += np.log(1/(1+np.exp(-connection*(alpha-distance))))\n",
    "    return sum\n",
    "\n",
    "\n",
    "def grad(point):\n",
    "    alpha = 5\n",
    "    gradient = np.zeros((len(point),2))\n",
    "    #gradient = np.zeros(8)\n",
    "    for i in range(len(point)*2):\n",
    "        point_number = i//2+1 # Converge i to the point number\n",
    "        if i%2==0: # Check if we are finding the gradient in x og y direction\n",
    "            index = 0\n",
    "        else: \n",
    "            index = 1\n",
    "\n",
    "        for m in range(len(Y)):\n",
    "            if ((Y[m][1] == point_number) or (Y[m][2] == point_number)): # Check to see if point_number is part of the edge\n",
    "                connection = Y[m][0] # Check to see if there is a connection\n",
    "                distance = (np.linalg.norm(point[Y[m][1]-1] - point[Y[m][2]-1]))**2 # Calculate the euclidean distance squared\n",
    "                point_index_diff = (point[point_number-1][index] - point[Y[m][1]-1][index]) + (point[point_number-1][index] - point[Y[m][2]-1][index]) # Calculate Points_a,i-Points_b,i\n",
    "                numerator = -2 * connection * point_index_diff * np.exp(-connection * (alpha - distance)) # Calculate the numerator\n",
    "                denominator = 1 + np.exp(-connection * (alpha - distance)) # Calculate the denominator\n",
    "                gradient[point_number-1][index] += numerator / denominator # Calculate the fraction and plus all connection there is with point_number together\n",
    "    return gradient"
   ]
  },
  {
   "cell_type": "code",
   "execution_count": 4,
   "metadata": {},
   "outputs": [],
   "source": [
    "# For point.flatten()\n",
    "def function(point):\n",
    "    alpha = 5\n",
    "    sum = np.zeros(len(point))\n",
    "    for i in range(len(point)):\n",
    "        point_number = i//2+1 # Converge i to the point number\n",
    "\n",
    "        for m in range(len(Y)):\n",
    "            connection = Y[m][0] # Check to see if there is a connection\n",
    "            distance = (np.linalg.norm(point[(Y[m][1]-1)*2:(Y[m][1]-1)*2+2] - point[(Y[m][2]-1)*2:(Y[m][2]-1)*2+2]))**2 # Calculate the euclidean distance squared\n",
    "            sum[i] += np.log(1/(1+np.exp(-connection*(alpha-distance))))\n",
    "    return sum\n",
    "\n",
    "def grad(point):\n",
    "    alpha = 5\n",
    "    gradient = np.zeros(8)\n",
    "    for i in range(len(point)*2):\n",
    "        point_number = i//2+1 # Converge i to the point number\n",
    "        if i%2==0: # Check if we are finding the gradient in x og y direction\n",
    "            index = 0\n",
    "        else: \n",
    "            index = 1\n",
    "\n",
    "        for m in range(len(Y)):\n",
    "            if ((Y[m][1] == point_number) or (Y[m][2] == point_number)): # Check to see if point_number is part of the edge\n",
    "                connection = Y[m][0] # Check to see if there is a connection\n",
    "                distance = (np.linalg.norm(point[(Y[m][1]-1)*2:(Y[m][1]-1)*2+2] - point[(Y[m][2]-1)*2:(Y[m][2]-1)*2+2]))**2 # Calculate the euclidean distance squared\n",
    "                point_index_diff = (point[(point_number-1)*2+index] - point[(Y[m][1]-1)*2+index]) + (point[(point_number-1)*2+index] - point[(Y[m][2]-1)*2+index]) # Calculate Points_a,i-Points_b,i\n",
    "                numerator = -2 * connection * point_index_diff * np.exp(-connection * (alpha - distance)) # Calculate the numerator\n",
    "                denominator = 1 + np.exp(-connection * (alpha - distance)) # Calculate the denominator\n",
    "                gradient[i] += numerator / denominator # Calculate the fraction and plus all connection there is with point_number together\n",
    "    return gradient"
   ]
  },
  {
   "cell_type": "code",
   "execution_count": 7,
   "metadata": {},
   "outputs": [
    {
     "name": "stdout",
     "output_type": "stream",
     "text": [
      "Gradient error: 1.479118104291377e-06\n"
     ]
    }
   ],
   "source": [
    "# Check gradient\n",
    "epsilon = 1e-6\n",
    "point = np.random.normal(mean, std_dev, size).flatten()# Generate points from a normal distribution\n",
    "error = check_grad(function, grad, point)\n",
    "print(\"Gradient error:\", error)"
   ]
  },
  {
   "cell_type": "code",
   "execution_count": 8,
   "metadata": {},
   "outputs": [],
   "source": [
    "hist = np.zeros(1000)\n",
    "for n in range(1000):\n",
    "    point = np.random.normal(mean, std_dev, size).flatten()# Generate points from a normal distribution\n",
    "    hist[n] = check_grad(function, grad, point)"
   ]
  },
  {
   "cell_type": "code",
   "execution_count": 9,
   "metadata": {},
   "outputs": [
    {
     "data": {
      "text/plain": [
       "(array([ 57., 155., 239., 162.,  88.,  60.,  59.,  40.,  35.,  29.,  20.,\n",
       "         10.,  11.,  10.,   7.,   5.,   1.,   3.,   0.,   0.,   0.,   1.,\n",
       "          3.,   0.,   1.,   1.,   0.,   1.,   1.,   1.]),\n",
       " array([1.29349099e-07, 2.76471496e-07, 4.23593893e-07, 5.70716290e-07,\n",
       "        7.17838688e-07, 8.64961085e-07, 1.01208348e-06, 1.15920588e-06,\n",
       "        1.30632828e-06, 1.45345067e-06, 1.60057307e-06, 1.74769547e-06,\n",
       "        1.89481786e-06, 2.04194026e-06, 2.18906266e-06, 2.33618506e-06,\n",
       "        2.48330745e-06, 2.63042985e-06, 2.77755225e-06, 2.92467464e-06,\n",
       "        3.07179704e-06, 3.21891944e-06, 3.36604184e-06, 3.51316423e-06,\n",
       "        3.66028663e-06, 3.80740903e-06, 3.95453142e-06, 4.10165382e-06,\n",
       "        4.24877622e-06, 4.39589862e-06, 4.54302101e-06]),\n",
       " <BarContainer object of 30 artists>)"
      ]
     },
     "execution_count": 9,
     "metadata": {},
     "output_type": "execute_result"
    },
    {
     "data": {
      "image/png": "[encoded data removed]",
      "text/plain": [
       "<Figure size 640x480 with 1 Axes>"
      ]
     },
     "metadata": {},
     "output_type": "display_data"
    }
   ],
   "source": [
    "import matplotlib.pyplot as plt\n",
    "plt.hist(hist, bins = 30, color='skyblue', edgecolor='black')"
   ]
  }
 ],
 "metadata": {
  "kernelspec": {
   "display_name": "bachelor",
   "language": "python",
   "name": "python3"
  },
  "language_info": {
   "codemirror_mode": {
    "name": "ipython",
    "version": 3
   },
   "file_extension": ".py",
   "mimetype": "text/x-python",
   "name": "python",
   "nbconvert_exporter": "python",
   "pygments_lexer": "ipython3",
   "version": "3.9.18"
  }
 },
 "nbformat": 4,
 "nbformat_minor": 2
}
