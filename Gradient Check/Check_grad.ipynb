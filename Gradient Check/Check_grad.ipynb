{
 "cells": [
  {
   "cell_type": "code",
   "execution_count": 2,
   "metadata": {},
   "outputs": [],
   "source": [
    "import numpy as np\n",
    "from scipy.optimize import check_grad\n",
    "import math\n",
    "\n",
    "Y = [[1, 1, 2],\n",
    "     [-1, 1, 3],\n",
    "     [-1, 1, 4],\n",
    "     [1, 2, 3],\n",
    "     [1, 2, 4],\n",
    "     [1, 3, 4]]\n",
    "\n",
    "# Parameters for the normal distribution\n",
    "mean = 0  # Mean of the distribution\n",
    "std_dev = 1  # Standard deviation of the distribution\n",
    "size = (4, 2)  # Size of the sample (rows, columns)"
   ]
  },
  {
   "cell_type": "code",
   "execution_count": 9,
   "metadata": {},
   "outputs": [],
   "source": [
    "# For point.flatten()\n",
    "def function(point):\n",
    "    alpha = 5\n",
    "    sum = np.zeros(len(point))\n",
    "    for i in range(len(point)):\n",
    "        point_number = i//2+1 # Converge i to the point number\n",
    "\n",
    "        for m in range(len(Y)):\n",
    "            connection = Y[m][0] # Check to see if there is a connection\n",
    "            distance = (np.linalg.norm(point[(Y[m][1]-1)*2:(Y[m][1]-1)*2+2] - point[(Y[m][2]-1)*2:(Y[m][2]-1)*2+2]))**2 # Calculate the euclidean distance squared\n",
    "            sum[i] += np.log(1/(1+np.exp(-connection*(alpha-distance))))\n",
    "    return sum\n",
    "\n",
    "def grad(point):\n",
    "    alpha = 5\n",
    "    gradient = np.zeros(8)\n",
    "    for i in range(len(point)*2):\n",
    "        point_number = i//2+1 # Converge i to the point number\n",
    "        if i%2==0: # Check if we are finding the gradient in x og y direction\n",
    "            index = 0\n",
    "        else: \n",
    "            index = 1\n",
    "\n",
    "        for m in range(len(Y)):\n",
    "            if ((Y[m][1] == point_number) or (Y[m][2] == point_number)): # Check to see if point_number is part of the edge\n",
    "                connection = Y[m][0] # Check to see if there is a connection\n",
    "                distance = (np.linalg.norm(point[(Y[m][1]-1)*2:(Y[m][1]-1)*2+2] - point[(Y[m][2]-1)*2:(Y[m][2]-1)*2+2]))**2 # Calculate the euclidean distance squared\n",
    "                point_index_diff = (point[(point_number-1)*2+index] - point[(Y[m][1]-1)*2+index]) + (point[(point_number-1)*2+index] - point[(Y[m][2]-1)*2+index]) # Calculate Points_a,i-Points_b,i\n",
    "                numerator = -2 * connection * point_index_diff * np.exp(-connection * (alpha - distance)) # Calculate the numerator\n",
    "                denominator = 1 + np.exp(-connection * (alpha - distance)) # Calculate the denominator\n",
    "                gradient[i] += numerator / denominator # Calculate the fraction and plus all connection there is with point_number together\n",
    "    return gradient"
   ]
  },
  {
   "cell_type": "code",
   "execution_count": 10,
   "metadata": {},
   "outputs": [
    {
     "name": "stdout",
     "output_type": "stream",
     "text": [
      "Gradient error: 9.159907911783536e-07\n"
     ]
    }
   ],
   "source": [
    "# Check gradient\n",
    "epsilon = 1e-6\n",
    "point = np.random.normal(mean, std_dev, size).flatten() # Generate points from a normal distribution\n",
    "error = check_grad(function, grad, point)\n",
    "print(\"Gradient error:\", error)"
   ]
  },
  {
   "cell_type": "code",
   "execution_count": 11,
   "metadata": {},
   "outputs": [],
   "source": [
    "# Check gradient 1000 times\n",
    "hist = np.zeros(1000)\n",
    "for n in range(1000):\n",
    "    point = np.random.normal(mean, std_dev, size).flatten() # Generate points from a normal distribution\n",
    "    hist[n] = check_grad(function, grad, point)"
   ]
  },
  {
   "cell_type": "code",
   "execution_count": 12,
   "metadata": {},
   "outputs": [
    {
     "data": {
      "text/plain": [
       "(array([ 40., 143., 194., 142., 132.,  82.,  63.,  55.,  37.,  26.,  20.,\n",
       "         14.,  10.,   8.,   3.,   9.,   3.,   6.,   1.,   1.,   1.,   1.,\n",
       "          1.,   2.,   4.,   0.,   1.,   0.,   0.,   1.]),\n",
       " array([1.04181763e-07, 2.51126448e-07, 3.98071133e-07, 5.45015818e-07,\n",
       "        6.91960503e-07, 8.38905188e-07, 9.85849874e-07, 1.13279456e-06,\n",
       "        1.27973924e-06, 1.42668393e-06, 1.57362861e-06, 1.72057330e-06,\n",
       "        1.86751798e-06, 2.01446267e-06, 2.16140735e-06, 2.30835204e-06,\n",
       "        2.45529672e-06, 2.60224141e-06, 2.74918610e-06, 2.89613078e-06,\n",
       "        3.04307547e-06, 3.19002015e-06, 3.33696484e-06, 3.48390952e-06,\n",
       "        3.63085421e-06, 3.77779889e-06, 3.92474358e-06, 4.07168826e-06,\n",
       "        4.21863295e-06, 4.36557763e-06, 4.51252232e-06]),\n",
       " <BarContainer object of 30 artists>)"
      ]
     },
     "execution_count": 12,
     "metadata": {},
     "output_type": "execute_result"
    },
    {
     "data": {
      "image/png": "[encoded data removed]",
      "text/plain": [
       "<Figure size 640x480 with 1 Axes>"
      ]
     },
     "metadata": {},
     "output_type": "display_data"
    }
   ],
   "source": [
    "import matplotlib.pyplot as plt\n",
    "plt.hist(hist, bins = 30, color='skyblue', edgecolor='black')"
   ]
  }
 ],
 "metadata": {
  "kernelspec": {
   "display_name": "bachelor",
   "language": "python",
   "name": "python3"
  },
  "language_info": {
   "codemirror_mode": {
    "name": "ipython",
    "version": 3
   },
   "file_extension": ".py",
   "mimetype": "text/x-python",
   "name": "python",
   "nbconvert_exporter": "python",
   "pygments_lexer": "ipython3",
   "version": "3.9.18"
  }
 },
 "nbformat": 4,
 "nbformat_minor": 2
}
