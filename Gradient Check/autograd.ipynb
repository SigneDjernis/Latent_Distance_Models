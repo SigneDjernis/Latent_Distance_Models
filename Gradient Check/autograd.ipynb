{
 "cells": [
  {
   "cell_type": "code",
   "execution_count": 15,
   "metadata": {},
   "outputs": [],
   "source": [
    "# Import packages and Functions.py\n",
    "import sys\n",
    "sys.path.append('../') \n",
    "from Functions import * "
   ]
  },
  {
   "cell_type": "code",
   "execution_count": 16,
   "metadata": {},
   "outputs": [],
   "source": [
    "# Matrix Y, containing all possilbe edges\n",
    "Y = [[1, 1, 2],\n",
    "     [-1, 1, 3],\n",
    "     [-1, 1, 4],\n",
    "     [1, 2, 3],\n",
    "     [1, 2, 4],\n",
    "     [1, 3, 4]]\n",
    "\n",
    "alpha = 5 # Change alpha here\n",
    "num_samples = 4\n",
    "dim = 2\n",
    "\n",
    "# Define mu and cov_matrix to be able to sample #num_samples samples from a multivariate normal distribution\n",
    "mu = np.zeros(dim)\n",
    "identity_matrix = np.eye(dim)\n",
    "cov_matrix = identity_matrix"
   ]
  },
  {
   "cell_type": "code",
   "execution_count": 18,
   "metadata": {},
   "outputs": [],
   "source": [
    "# Define Loss_function as in Functions.py but only take the input point and not Y-matrix\n",
    "def Loss_function_fast(point):\n",
    "    Y_np = np.array(Y)\n",
    "    connections = Y_np[:, 0]\n",
    "    indices_a = Y_np[:, 1]\n",
    "    indices_b = Y_np[:, 2]\n",
    "\n",
    "    points_a = [point[i] for i in indices_a]\n",
    "    points_b = [point[i] for i in indices_b]\n",
    "    points_a_np = np.array(points_a)\n",
    "    points_b_np = np.array(points_b)\n",
    "\n",
    "    distances = np.sum((points_a_np - points_b_np) ** 2, axis=1)\n",
    "\n",
    "    sigmoid_value = 1 / (1 + np.exp(-connections * (alpha - distances)))\n",
    "    return np.sum(np.log(sigmoid_value))"
   ]
  },
  {
   "cell_type": "code",
   "execution_count": 19,
   "metadata": {},
   "outputs": [],
   "source": [
    "hist = np.zeros(1000) # Number of test\n",
    "for n in range(1000):\n",
    "    point = {l+1: np.random.multivariate_normal(mu, cov_matrix) for l in range(num_samples)} # Generate points from a normal distribution\n",
    "    \n",
    "    # Use Autograd\n",
    "    grad_func = value_and_grad(Loss_function_fast)\n",
    "    Autograd = grad_func(point)\n",
    "\n",
    "    # Use Gradient_function\n",
    "    grad_matrix = np.array([[Gradient_function_fast(1,dim,Y,point,alpha)],\n",
    "                            [Gradient_function_fast(2,dim,Y,point,alpha)],\n",
    "                            [Gradient_function_fast(3,dim,Y,point,alpha)],\n",
    "                            [Gradient_function_fast(4,dim,Y,point,alpha)]])\n",
    "    # Caculate the error\n",
    "    hist[n] = np.sum(Autograd[1][1]-grad_matrix[0]+Autograd[1][2]-grad_matrix[1]+Autograd[1][3]-grad_matrix[2]+Autograd[1][4]-grad_matrix[3])\n"
   ]
  },
  {
   "cell_type": "code",
   "execution_count": 20,
   "metadata": {},
   "outputs": [
    {
     "data": {
      "text/plain": [
       "(array([  1.,   2.,   0.,   1.,   4.,   0.,   2.,   7.,   3.,   9.,  29.,\n",
       "          7.,  21.,  64.,  39., 183., 278., 111., 115.,  63.,   6.,  18.,\n",
       "         20.,   2.,   5.,   3.,   1.,   3.,   1.,   2.]),\n",
       " array([-4.88498131e-15, -4.58892184e-15, -4.29286236e-15, -3.99680289e-15,\n",
       "        -3.70074342e-15, -3.40468394e-15, -3.10862447e-15, -2.81256500e-15,\n",
       "        -2.51650552e-15, -2.22044605e-15, -1.92438658e-15, -1.62832710e-15,\n",
       "        -1.33226763e-15, -1.03620816e-15, -7.40148683e-16, -4.44089210e-16,\n",
       "        -1.48029737e-16,  1.48029737e-16,  4.44089210e-16,  7.40148683e-16,\n",
       "         1.03620816e-15,  1.33226763e-15,  1.62832710e-15,  1.92438658e-15,\n",
       "         2.22044605e-15,  2.51650552e-15,  2.81256500e-15,  3.10862447e-15,\n",
       "         3.40468394e-15,  3.70074342e-15,  3.99680289e-15]),\n",
       " <BarContainer object of 30 artists>)"
      ]
     },
     "execution_count": 20,
     "metadata": {},
     "output_type": "execute_result"
    },
    {
     "data": {
      "image/png": "[encoded data removed]",
      "text/plain": [
       "<Figure size 640x480 with 1 Axes>"
      ]
     },
     "metadata": {},
     "output_type": "display_data"
    }
   ],
   "source": [
    "import matplotlib.pyplot as plt\n",
    "plt.hist(hist, bins = 30, color='skyblue', edgecolor='black')"
   ]
  }
 ],
 "metadata": {
  "kernelspec": {
   "display_name": "bachelor",
   "language": "python",
   "name": "python3"
  },
  "language_info": {
   "codemirror_mode": {
    "name": "ipython",
    "version": 3
   },
   "file_extension": ".py",
   "mimetype": "text/x-python",
   "name": "python",
   "nbconvert_exporter": "python",
   "pygments_lexer": "ipython3",
   "version": "3.9.18"
  }
 },
 "nbformat": 4,
 "nbformat_minor": 2
}
