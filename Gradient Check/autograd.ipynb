{
 "cells": [
  {
   "cell_type": "code",
   "execution_count": 2,
   "metadata": {},
   "outputs": [],
   "source": [
    "# Import packages and Functions.py\n",
    "import sys\n",
    "sys.path.append('../') \n",
    "from Functions import * "
   ]
  },
  {
   "cell_type": "code",
   "execution_count": 3,
   "metadata": {},
   "outputs": [],
   "source": [
    " # Matrix Y, containing all possilbe edges\n",
    " Y = [[1, 1, 2],\n",
    "     [-1, 1, 3],\n",
    "     [-1, 1, 4],\n",
    "     [1, 2, 3],\n",
    "     [1, 2, 4],\n",
    "     [1, 3, 4]]\n",
    "\n",
    "alpha = 5 # Change alpha here\n",
    "\n",
    "# Define mu and cov_matrix to be able to sample #num_samples samples from a multivariate normal distribution\n",
    "mu = np.zeros(2)\n",
    "cov_matrix = np.array([[1.0, 0.5], [0.5, 2.0]])\n",
    "num_samples = 4"
   ]
  },
  {
   "cell_type": "code",
   "execution_count": 4,
   "metadata": {},
   "outputs": [],
   "source": [
    "# Define Loss_function as in Functions.py but only take the input point and not Y-matrix\n",
    "def Loss_function(point):\n",
    "    alpha = 5 \n",
    "    result = 0\n",
    "\n",
    "    for m in range(len(Y)): \n",
    "        connection = Y[m][0]\n",
    "        point_1 = point[Y[m][1]]\n",
    "        point_2 = point[Y[m][2]]\n",
    "        distance = np.linalg.norm(point_1 - point_2) ** 2 \n",
    "        sigmoid_value = 1 / (1 + np.exp(-connection * (alpha - distance))) \n",
    "        result += np.log(sigmoid_value) \n",
    "\n",
    "    return result"
   ]
  },
  {
   "cell_type": "code",
   "execution_count": 5,
   "metadata": {},
   "outputs": [],
   "source": [
    "hist = np.zeros(1000) # Number of test\n",
    "for n in range(1000):\n",
    "    point = {l+1: np.random.multivariate_normal(mu, cov_matrix) for l in range(num_samples)} # Generate points from a normal distribution\n",
    "    \n",
    "    # Use Autograd\n",
    "    grad_func = value_and_grad(Loss_function)\n",
    "    Autograd = grad_func(point)\n",
    "\n",
    "    # Use Gradient_function\n",
    "    grad_matrix = np.array([[Gradient_function(1,0,Y,point), Gradient_function(1,1,Y,point)],\n",
    "                            [Gradient_function(2,0,Y,point), Gradient_function(2,1,Y,point)],\n",
    "                            [Gradient_function(3,0,Y,point), Gradient_function(3,1,Y,point)],\n",
    "                            [Gradient_function(4,0,Y,point), Gradient_function(4,1,Y,point)]])\n",
    "    # Caculate the error\n",
    "    hist[n] = np.sum(Autograd[1][1]-grad_matrix[0]+Autograd[1][2]-grad_matrix[1]+Autograd[1][3]-grad_matrix[2]+Autograd[1][4]-grad_matrix[3])\n"
   ]
  },
  {
   "cell_type": "code",
   "execution_count": 6,
   "metadata": {},
   "outputs": [
    {
     "data": {
      "text/plain": [
       "(array([  1.,   0.,   0.,   0.,   0.,   1.,   0.,   1.,   0.,   0.,   0.,\n",
       "          4.,   2.,  18.,  15.,  51.,  30., 170., 358., 197.,  52.,  51.,\n",
       "         14.,  20.,   3.,   5.,   3.,   1.,   1.,   2.]),\n",
       " array([-1.24344979e-14, -1.17646633e-14, -1.10948288e-14, -1.04249942e-14,\n",
       "        -9.75515964e-15, -9.08532508e-15, -8.41549053e-15, -7.74565597e-15,\n",
       "        -7.07582141e-15, -6.40598685e-15, -5.73615229e-15, -5.06631774e-15,\n",
       "        -4.39648318e-15, -3.72664862e-15, -3.05681406e-15, -2.38697950e-15,\n",
       "        -1.71714494e-15, -1.04731039e-15, -3.77475828e-16,  2.92358730e-16,\n",
       "         9.62193288e-16,  1.63202785e-15,  2.30186240e-15,  2.97169696e-15,\n",
       "         3.64153152e-15,  4.31136608e-15,  4.98120064e-15,  5.65103520e-15,\n",
       "         6.32086975e-15,  6.99070431e-15,  7.66053887e-15]),\n",
       " <BarContainer object of 30 artists>)"
      ]
     },
     "execution_count": 6,
     "metadata": {},
     "output_type": "execute_result"
    },
    {
     "data": {
      "image/png": "[encoded data removed]",
      "text/plain": [
       "<Figure size 640x480 with 1 Axes>"
      ]
     },
     "metadata": {},
     "output_type": "display_data"
    }
   ],
   "source": [
    "import matplotlib.pyplot as plt\n",
    "plt.hist(hist, bins = 30, color='skyblue', edgecolor='black')"
   ]
  }
 ],
 "metadata": {
  "kernelspec": {
   "display_name": "bachelor",
   "language": "python",
   "name": "python3"
  },
  "language_info": {
   "codemirror_mode": {
    "name": "ipython",
    "version": 3
   },
   "file_extension": ".py",
   "mimetype": "text/x-python",
   "name": "python",
   "nbconvert_exporter": "python",
   "pygments_lexer": "ipython3",
   "version": "3.9.18"
  }
 },
 "nbformat": 4,
 "nbformat_minor": 2
}
