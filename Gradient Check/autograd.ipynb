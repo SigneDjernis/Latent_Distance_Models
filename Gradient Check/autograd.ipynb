{
 "cells": [
  {
   "cell_type": "code",
   "execution_count": 28,
   "metadata": {},
   "outputs": [],
   "source": [
    "import sys\n",
    "sys.path.append('../') # Change path\n",
    "from Functions import * # Import Gradient_function"
   ]
  },
  {
   "cell_type": "code",
   "execution_count": 29,
   "metadata": {},
   "outputs": [],
   "source": [
    " # Matrix Y, containing all possilbe edges\n",
    " Y = [[1, 1, 2],\n",
    "     [-1, 1, 3],\n",
    "     [-1, 1, 4],\n",
    "     [1, 2, 3],\n",
    "     [1, 2, 4],\n",
    "     [1, 3, 4]]\n",
    "\n",
    "alpha = 5 # Define alpha\n",
    "mu = np.zeros(2) # Define mean (mu) as a zero vector\n",
    "cov_matrix = np.array([[1.0, 0.5], [0.5, 2.0]]) # Define covariance matrix\n",
    "num_samples = 4  # Number of samples you want to generate"
   ]
  },
  {
   "cell_type": "code",
   "execution_count": 30,
   "metadata": {},
   "outputs": [],
   "source": [
    "def Loss_function(point):\n",
    "    alpha = 5 # Define Alpha\n",
    "    result = 0 # Define result for the Loss_function\n",
    "\n",
    "    for m in range(len(Y)): # Run over all \"edges\"\n",
    "        connection = Y[m][0] # Check to see if there is a connection\n",
    "        point_1 = point[Y[m][1]] # Define coordinates for vertex 1\n",
    "        point_2 = point[Y[m][2]] # Define coordinates for vertex 2\n",
    "        distance = np.linalg.norm(point_1 - point_2) ** 2 # Calculate the euclidean distance squared\n",
    "        sigmoid_value = 1 / (1 + np.exp(-connection * (alpha - distance))) # Calculate the sigmoid function\n",
    "        result += np.log(sigmoid_value) # Sum all the probabilities \n",
    "\n",
    "    return result"
   ]
  },
  {
   "cell_type": "code",
   "execution_count": 31,
   "metadata": {},
   "outputs": [],
   "source": [
    "hist = np.zeros(1000) # Number of test\n",
    "for n in range(1000):\n",
    "    point = {l+1: np.random.multivariate_normal(mu, cov_matrix) for l in range(num_samples)} # Generate points from a normal distribution\n",
    "    \n",
    "    # Use Autograd\n",
    "    grad_func = value_and_grad(Loss_function)\n",
    "    Autograd = grad_func(point)\n",
    "\n",
    "    # Use Gradient_function\n",
    "    grad_matrix = np.array([[Gradient_function(1,0,Y,point), Gradient_function(1,1,Y,point)],\n",
    "                            [Gradient_function(2,0,Y,point), Gradient_function(2,1,Y,point)],\n",
    "                            [Gradient_function(3,0,Y,point), Gradient_function(3,1,Y,point)],\n",
    "                            [Gradient_function(4,0,Y,point), Gradient_function(4,1,Y,point)]])\n",
    "    # Caculate the error\n",
    "    hist[n] = np.sum(Autograd[1][1]-grad_matrix[0]+Autograd[1][2]-grad_matrix[1]+Autograd[1][3]-grad_matrix[2]+Autograd[1][4]-grad_matrix[3])\n"
   ]
  },
  {
   "cell_type": "code",
   "execution_count": 32,
   "metadata": {},
   "outputs": [
    {
     "data": {
      "text/plain": [
       "(array([  2.,   1.,   2.,   1.,   4.,   4.,  13.,   2.,   6.,  12.,  18.,\n",
       "         55.,  30.,  64.,  45., 157., 251., 115.,  83.,  36.,  41.,  12.,\n",
       "          4.,  16.,   4.,  17.,   1.,   1.,   0.,   3.]),\n",
       " array([-6.21724894e-15, -5.83237162e-15, -5.44749431e-15, -5.06261699e-15,\n",
       "        -4.67773968e-15, -4.29286236e-15, -3.90798505e-15, -3.52310773e-15,\n",
       "        -3.13823042e-15, -2.75335310e-15, -2.36847579e-15, -1.98359847e-15,\n",
       "        -1.59872116e-15, -1.21384384e-15, -8.28966525e-16, -4.44089210e-16,\n",
       "        -5.92118946e-17,  3.25665421e-16,  7.10542736e-16,  1.09542005e-15,\n",
       "         1.48029737e-15,  1.86517468e-15,  2.25005200e-15,  2.63492931e-15,\n",
       "         3.01980663e-15,  3.40468394e-15,  3.78956126e-15,  4.17443857e-15,\n",
       "         4.55931589e-15,  4.94419320e-15,  5.32907052e-15]),\n",
       " <BarContainer object of 30 artists>)"
      ]
     },
     "execution_count": 32,
     "metadata": {},
     "output_type": "execute_result"
    },
    {
     "data": {
      "image/png": "[encoded data removed]",
      "text/plain": [
       "<Figure size 640x480 with 1 Axes>"
      ]
     },
     "metadata": {},
     "output_type": "display_data"
    }
   ],
   "source": [
    "import matplotlib.pyplot as plt\n",
    "plt.hist(hist, bins = 30, color='skyblue', edgecolor='black')"
   ]
  }
 ],
 "metadata": {
  "kernelspec": {
   "display_name": "bachelor",
   "language": "python",
   "name": "python3"
  },
  "language_info": {
   "codemirror_mode": {
    "name": "ipython",
    "version": 3
   },
   "file_extension": ".py",
   "mimetype": "text/x-python",
   "name": "python",
   "nbconvert_exporter": "python",
   "pygments_lexer": "ipython3",
   "version": "3.9.18"
  }
 },
 "nbformat": 4,
 "nbformat_minor": 2
}
