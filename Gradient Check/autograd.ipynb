{
 "cells": [
  {
   "cell_type": "code",
   "execution_count": 68,
   "metadata": {},
   "outputs": [],
   "source": [
    "import autograd.numpy as np\n",
    "from autograd import value_and_grad \n",
    "\n",
    "from autograd import grad \n",
    "from autograd.misc.flatten import flatten_func"
   ]
  },
  {
   "cell_type": "code",
   "execution_count": 69,
   "metadata": {},
   "outputs": [],
   "source": [
    " Y = [[1, 1, 2],\n",
    "     [-1, 1, 3],\n",
    "     [-1, 1, 4],\n",
    "     [1, 2, 3],\n",
    "     [1, 2, 4],\n",
    "     [1, 3, 4]]\n",
    "\n",
    "\n",
    "alpha = 5 # Define alpha\n",
    "\n",
    "mu = np.zeros(2) # Define mean (mu) as a zero vector\n",
    "cov_matrix = np.array([[1.0, 0.5], [0.5, 2.0]]) # Define covariance matrix\n",
    "num_samples = 4  # Number of samples you want to generate"
   ]
  },
  {
   "cell_type": "code",
   "execution_count": 70,
   "metadata": {},
   "outputs": [],
   "source": [
    "def function(point):\n",
    "    sum = 0\n",
    "    for edge_m in range(len(Y)):\n",
    "        connection = Y[edge_m][0] # Check to see if point_number is part of the edge\n",
    "        point_1 = point[Y[edge_m][1]]\n",
    "        point_2 = point[Y[edge_m][2]]\n",
    "        norm_distance_squared = np.linalg.norm(point_1 - point_2) ** 2\n",
    "        exponent = -connection * (alpha - norm_distance_squared)\n",
    "        sigmoid_value = 1 / (1 + np.exp(exponent))\n",
    "        sum += np.log(sigmoid_value)\n",
    "    return sum\n",
    "\n",
    "\n",
    "def grad(point_number,index):\n",
    "    gradient = 0\n",
    "    alpha = 5\n",
    "    for m in range(len(Y)):\n",
    "        if ((Y[m][1] == point_number) or (Y[m][2] == point_number)): # Check to see if point_number is part of the edge\n",
    "            connection = Y[m][0] # Check to see if there is a connection\n",
    "            distance = (np.linalg.norm(point[Y[m][1]] - point[Y[m][2]]))**2 # Calculate the euclidean distance squared\n",
    "            point_index_diff = (point[point_number][index] - point[Y[m][1]][index]) + (point[point_number][index] - point[Y[m][2]][index]) # Calculate Points_a,i-Points_b,i\n",
    "            numerator = -2 * connection * point_index_diff * np.exp(-connection * (alpha - distance)) # Calculate the numerator\n",
    "            denominator = 1 + np.exp(-connection * (alpha - distance)) # Calculate the denominator\n",
    "            gradient += numerator / denominator # Calculate the fraction and plus all connection there is with point_number together\n",
    "\n",
    "    return gradient "
   ]
  },
  {
   "cell_type": "code",
   "execution_count": 71,
   "metadata": {},
   "outputs": [],
   "source": [
    "hist = np.zeros(1000)\n",
    "for n in range(1000):\n",
    "    point = {l+1: np.random.multivariate_normal(mu, cov_matrix) for l in range(num_samples)} # Generate points from a normal distribution\n",
    "    \n",
    "    # Use Autograd\n",
    "    grad_func = value_and_grad(function)\n",
    "    Autograd = grad_func(point)\n",
    "\n",
    "    # Use grad function\n",
    "    grad_matrix = np.array([[grad(1, 0), grad(1, 1)],\n",
    "                            [grad(2, 0), grad(2, 1)],\n",
    "                            [grad(3, 0), grad(3, 1)],\n",
    "                            [grad(4, 0), grad(4, 1)]])\n",
    "    # Caculate the error\n",
    "    hist[n] = np.sum(Autograd[1][1]-grad_matrix[0]+Autograd[1][2]-grad_matrix[1]+Autograd[1][3]-grad_matrix[2]+Autograd[1][4]-grad_matrix[3])\n"
   ]
  },
  {
   "cell_type": "code",
   "execution_count": 72,
   "metadata": {},
   "outputs": [
    {
     "data": {
      "text/plain": [
       "(array([  1.,   0.,   0.,   2.,   2.,   5.,   0.,   9.,   4.,  16.,  11.,\n",
       "         43.,  10.,  42.,  93., 166., 275.,  94.,  99.,  29.,  41.,   8.,\n",
       "         16.,   6.,  18.,   2.,   2.,   1.,   3.,   2.]),\n",
       " array([-6.77236045e-15, -6.35417644e-15, -5.93599244e-15, -5.51780843e-15,\n",
       "        -5.09962443e-15, -4.68144042e-15, -4.26325641e-15, -3.84507241e-15,\n",
       "        -3.42688840e-15, -3.00870440e-15, -2.59052039e-15, -2.17233638e-15,\n",
       "        -1.75415238e-15, -1.33596837e-15, -9.17784367e-16, -4.99600361e-16,\n",
       "        -8.14163551e-17,  3.36767651e-16,  7.54951657e-16,  1.17313566e-15,\n",
       "         1.59131967e-15,  2.00950367e-15,  2.42768768e-15,  2.84587169e-15,\n",
       "         3.26405569e-15,  3.68223970e-15,  4.10042370e-15,  4.51860771e-15,\n",
       "         4.93679172e-15,  5.35497572e-15,  5.77315973e-15]),\n",
       " <BarContainer object of 30 artists>)"
      ]
     },
     "execution_count": 72,
     "metadata": {},
     "output_type": "execute_result"
    },
    {
     "data": {
      "image/png": "[encoded data removed]",
      "text/plain": [
       "<Figure size 640x480 with 1 Axes>"
      ]
     },
     "metadata": {},
     "output_type": "display_data"
    }
   ],
   "source": [
    "import matplotlib.pyplot as plt\n",
    "plt.hist(hist, bins = 30, color='skyblue', edgecolor='black')"
   ]
  }
 ],
 "metadata": {
  "kernelspec": {
   "display_name": "bachelor",
   "language": "python",
   "name": "python3"
  },
  "language_info": {
   "codemirror_mode": {
    "name": "ipython",
    "version": 3
   },
   "file_extension": ".py",
   "mimetype": "text/x-python",
   "name": "python",
   "nbconvert_exporter": "python",
   "pygments_lexer": "ipython3",
   "version": "3.9.18"
  }
 },
 "nbformat": 4,
 "nbformat_minor": 2
}
