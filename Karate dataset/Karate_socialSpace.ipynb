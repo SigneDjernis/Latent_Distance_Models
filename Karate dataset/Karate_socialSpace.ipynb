{
 "cells": [
  {
   "cell_type": "code",
   "execution_count": 2,
   "metadata": {},
   "outputs": [],
   "source": [
    "import numpy as np\n",
    "%run Karate_data_import.ipynb\n",
    "import sys\n",
    "sys.path.append('../') # Change path\n",
    "from Functions import * # Import Gradient_function"
   ]
  },
  {
   "cell_type": "code",
   "execution_count": 15,
   "metadata": {},
   "outputs": [],
   "source": [
    "mu = np.zeros(2) # Define mean (mu) as a zero vector\n",
    "cov_matrix = np.array([[1.0, 0.5], [0.5, 2.0]]) # Define covariance matrix\n",
    "num_samples = 34  # Number of samples you want to generate\n",
    "\n",
    "points = {l+1: np.random.multivariate_normal(mu, cov_matrix) for l in range(num_samples)}"
   ]
  },
  {
   "cell_type": "code",
   "execution_count": 16,
   "metadata": {},
   "outputs": [
    {
     "name": "stderr",
     "output_type": "stream",
     "text": [
      "/Users/signeolsen/opt/anaconda3/envs/bachelor/lib/python3.9/site-packages/autograd/tracer.py:48: RuntimeWarning: overflow encountered in exp\n",
      "  return f_raw(*args, **kwargs)\n",
      "/Users/signeolsen/opt/anaconda3/envs/bachelor/lib/python3.9/site-packages/autograd/tracer.py:48: RuntimeWarning: divide by zero encountered in log\n",
      "  return f_raw(*args, **kwargs)\n",
      "/Users/signeolsen/Desktop/Latent_distance_models/Karate dataset/../Functions.py:33: RuntimeWarning: invalid value encountered in scalar divide\n",
      "  gradient += numerator / denominator # Calculate the fraction and plus all connection there is with point_number together\n"
     ]
    }
   ],
   "source": [
    "# Stopping after n iterations\n",
    "n = 10 # Number of iterations\n",
    "MLL = np.zeros(n) # Define the MLL\n",
    "grad_sum = np.zeros(n) # Define the gradient sum\n",
    "for k in range(n):\n",
    "    for i in range(1,num_samples+1): # Run over number of num_samples\n",
    "        for j in range(2): # Run over dimension\n",
    "            grad_sum[k] += Gradient_function(i,j,Y,points)**2\n",
    "            points[i][j] += 0.1*Gradient_function(i,j,Y,points) # Use Gradient_function and take step=0.1*grad\n",
    "            \n",
    "    MLL[k] = Loss_function(points,Y) # Calcualte the probability using Loss_function"
   ]
  },
  {
   "cell_type": "code",
   "execution_count": 6,
   "metadata": {},
   "outputs": [
    {
     "name": "stdout",
     "output_type": "stream",
     "text": [
      "0\n"
     ]
    }
   ],
   "source": [
    "# Adding stopping criteria\n",
    "prev_grad = 200 \n",
    "grad = 0\n",
    "k = 0\n",
    "n = 100\n",
    "MLL = np.zeros(n) # Define the MLL\n",
    "grad_sum = np.zeros(n) # Define the gradient sum\n",
    "\n",
    "while abs(prev_grad - grad) > 0.1: # stopping criteria\n",
    "    prev_grad = grad\n",
    "    for i in range(1,num_samples+1): # Run over number of num_samples\n",
    "        for j in range(2): # Run over dimension\n",
    "            grad_sum[k] += Gradient_function(i,j,Y,points)**2\n",
    "            points[i][j] += 0.1*Gradient_function(i,j,Y,points) # Use Gradient_function and take step=0.1*grad\n",
    "    grad = grad_sum[k]\n",
    "    MLL[k] = Loss_function(points,Y) # Calcualte the probability using Loss_function\n",
    "    print(k)\n",
    "    k += 1"
   ]
  },
  {
   "cell_type": "code",
   "execution_count": 9,
   "metadata": {},
   "outputs": [
    {
     "data": {
      "text/plain": [
       "array([nan, nan, nan, nan, nan, nan, nan, nan, nan, nan, nan, nan, nan,\n",
       "       nan, nan, nan, nan, nan, nan, nan, nan, nan, nan, nan, nan, nan,\n",
       "       nan, nan, nan, nan, nan, nan, nan, nan, nan, nan, nan, nan, nan,\n",
       "       nan, nan, nan, nan, nan, nan, nan, nan, nan, nan, nan])"
      ]
     },
     "execution_count": 9,
     "metadata": {},
     "output_type": "execute_result"
    }
   ],
   "source": [
    "MLL"
   ]
  },
  {
   "cell_type": "code",
   "execution_count": 8,
   "metadata": {},
   "outputs": [
    {
     "data": {
      "image/png": "[encoded data removed]",
      "text/plain": [
       "<Figure size 640x480 with 1 Axes>"
      ]
     },
     "metadata": {},
     "output_type": "display_data"
    }
   ],
   "source": [
    "plt.plot(MLL,label='MLL')\n",
    "#plt.plot(grad_sum1[0:k], label='Gradient sum')\n",
    "#plt.ylabel('MLL')\n",
    "plt.xlabel('Iterration')\n",
    "plt.legend()\n",
    "plt.show()"
   ]
  }
 ],
 "metadata": {
  "kernelspec": {
   "display_name": "bachelor",
   "language": "python",
   "name": "python3"
  },
  "language_info": {
   "codemirror_mode": {
    "name": "ipython",
    "version": 3
   },
   "file_extension": ".py",
   "mimetype": "text/x-python",
   "name": "python",
   "nbconvert_exporter": "python",
   "pygments_lexer": "ipython3",
   "version": "3.9.18"
  }
 },
 "nbformat": 4,
 "nbformat_minor": 2
}
