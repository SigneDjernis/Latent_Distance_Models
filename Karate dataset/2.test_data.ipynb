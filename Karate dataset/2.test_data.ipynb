{
 "cells": [
  {
   "cell_type": "code",
   "execution_count": 8,
   "metadata": {},
   "outputs": [],
   "source": [
    "# Import packages, the Y-matrix for the dataset and Functions.py\n",
    "import numpy as np\n",
    "%run 1.Karate_data_import.ipynb\n",
    "import sys\n",
    "sys.path.append('../')\n",
    "from Functions import * \n",
    "import copy\n",
    "import random"
   ]
  },
  {
   "cell_type": "code",
   "execution_count": 6,
   "metadata": {},
   "outputs": [],
   "source": [
    "# Define mu and cov_matrix to be able to sample #num_samples samples from a multivariate normal distribution with dimension dim\n",
    "dim = 2\n",
    "mu = np.zeros(dim) \n",
    "identity_matrix = np.eye(dim) \n",
    "cov_matrix = identity_matrix \n",
    "\n",
    "points = {l+1: np.random.multivariate_normal(mu, cov_matrix) for l in range(num_samples)}"
   ]
  },
  {
   "cell_type": "code",
   "execution_count": 7,
   "metadata": {},
   "outputs": [
    {
     "name": "stdout",
     "output_type": "stream",
     "text": [
      "Stored 'points' (dict)\n"
     ]
    }
   ],
   "source": [
    "%store points"
   ]
  }
 ],
 "metadata": {
  "kernelspec": {
   "display_name": "bachelor",
   "language": "python",
   "name": "python3"
  },
  "language_info": {
   "codemirror_mode": {
    "name": "ipython",
    "version": 3
   },
   "file_extension": ".py",
   "mimetype": "text/x-python",
   "name": "python",
   "nbconvert_exporter": "python",
   "pygments_lexer": "ipython3",
   "version": "3.9.18"
  }
 },
 "nbformat": 4,
 "nbformat_minor": 2
}
