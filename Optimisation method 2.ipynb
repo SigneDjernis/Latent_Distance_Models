{
 "cells": [
  {
   "cell_type": "code",
   "execution_count": 1,
   "metadata": {},
   "outputs": [],
   "source": [
    "import numpy as np"
   ]
  },
  {
   "cell_type": "code",
   "execution_count": 2,
   "metadata": {},
   "outputs": [],
   "source": [
    "# Matrix Y, som er vores graf i matrixform.\n",
    "Y = [[0, 1, 0, 0], \n",
    "    [1, 0, 1, 1],\n",
    "    [0, 1, 0, 1],\n",
    "    [0, 1, 1, 0]]"
   ]
  },
  {
   "cell_type": "code",
   "execution_count": 3,
   "metadata": {},
   "outputs": [],
   "source": [
    "# Function som bounder mellem 0 og 1\n",
    "def logit(z):\n",
    "    return 1/(1+np.exp(-z))\n",
    "\n",
    "# Function som finder afstanden mellem knuder\n",
    "def dist(Zi,Zj):\n",
    "    sum = 0\n",
    "    for k in (0,len(Zi)-1):\n",
    "        sum += (Zi[k]-Zj[k])**2\n",
    "    return np.sqrt(sum)\n",
    "\n",
    "# Function P(y|theta)\n",
    "def prop(theta,y):\n",
    "    return (theta**y)*((1-theta)**(1-y))"
   ]
  },
  {
   "cell_type": "code",
   "execution_count": 4,
   "metadata": {},
   "outputs": [],
   "source": [
    "# Define alpha and points and their respective names in a dictionary\n",
    "alpha = 2\n",
    "\n",
    "# Set mean (mu) as a zero vector\n",
    "mu = np.zeros(2)\n",
    "# Set covariance matrix\n",
    "cov_matrix = np.array([[1.0, 0.5], [0.5, 2.0]])\n",
    "\n",
    "# Generate random vectors\n",
    "num_samples = 4  # Number of samples you want to generate\n"
   ]
  },
  {
   "cell_type": "code",
   "execution_count": 17,
   "metadata": {},
   "outputs": [],
   "source": [
    "alpha = 5\n",
    "num_sets = 100000\n",
    "joint_prob = np.zeros(num_sets)\n",
    "for k in range(num_sets):\n",
    "    points = {l+1: np.random.multivariate_normal(mu, cov_matrix) for l in range(num_samples)}\n",
    "    thetas = {}\n",
    "    for i in range(1, 4):\n",
    "        for j in range(i + 1, 5):\n",
    "            distance = dist(points[i], points[j])\n",
    "            theta_ij = logit(alpha - distance)\n",
    "            thetas[(i, j)] = theta_ij\n",
    "            joint_prob[k] += np.log(prop(thetas[(i, j)], Y[i-1][j-1]))\n"
   ]
  },
  {
   "cell_type": "code",
   "execution_count": 12,
   "metadata": {},
   "outputs": [
    {
     "data": {
      "text/plain": [
       "-0.8793861957631166"
      ]
     },
     "execution_count": 12,
     "metadata": {},
     "output_type": "execute_result"
    }
   ],
   "source": [
    "max(joint_prob)"
   ]
  }
 ],
 "metadata": {
  "kernelspec": {
   "display_name": "bachelor",
   "language": "python",
   "name": "python3"
  },
  "language_info": {
   "codemirror_mode": {
    "name": "ipython",
    "version": 3
   },
   "file_extension": ".py",
   "mimetype": "text/x-python",
   "name": "python",
   "nbconvert_exporter": "python",
   "pygments_lexer": "ipython3",
   "version": "3.9.18"
  }
 },
 "nbformat": 4,
 "nbformat_minor": 2
}
