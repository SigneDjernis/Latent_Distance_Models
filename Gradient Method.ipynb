{
 "cells": [
  {
   "cell_type": "code",
   "execution_count": 400,
   "metadata": {},
   "outputs": [],
   "source": [
    "import numpy as np"
   ]
  },
  {
   "cell_type": "code",
   "execution_count": 406,
   "metadata": {},
   "outputs": [],
   "source": [
    "# Function som bounder mellem 0 og 1\n",
    "def logit(z):\n",
    "    return 1/(1+np.exp(-z))\n",
    "\n",
    "# Function som finder afstanden mellem knuder\n",
    "def dist(Zi,Zj):\n",
    "    sum = 0\n",
    "    for k in (0,len(Zi)-1):\n",
    "        sum += (Zi[k]-Zj[k])**2\n",
    "    return np.sqrt(sum)\n",
    "\n",
    "# Function P(y|theta)\n",
    "def prop(theta,y):\n",
    "    return (theta**y)*((1-theta)**(1-y))\n",
    "\n",
    "# Gradient function\n",
    "def grad(edge_m,index_i):\n",
    "    return (-2*Y[edge_m][0]*(points[Y[edge_m][1]][index_i]-points[Y[edge_m][2]][index_i])*np.exp(-Y[edge_m][0]*(alpha-dist(points[Y[edge_m][1]],points[Y[edge_m][2]]))))/(1+np.exp(-Y[edge_m][0]*(alpha-dist(points[Y[edge_m][1]],points[Y[edge_m][2]]))))"
   ]
  },
  {
   "cell_type": "code",
   "execution_count": 402,
   "metadata": {},
   "outputs": [],
   "source": [
    "# Matrix Y, som er vores graf i matrixform.\n",
    "Y_matrix = [[0, 1, 0, 0], \n",
    "    [1, 0, 1, 1],\n",
    "    [0, 1, 0, 1],\n",
    "    [0, 1, 1, 0]]\n",
    "\n",
    "Y = [[1, 1, 2],\n",
    "     [-1, 1, 3],\n",
    "     [-1, 1, 4],\n",
    "     [1, 2, 3],\n",
    "     [1, 2, 4],\n",
    "     [1, 3, 4]]"
   ]
  },
  {
   "cell_type": "code",
   "execution_count": 530,
   "metadata": {},
   "outputs": [
    {
     "data": {
      "text/plain": [
       "{1: array([0.5202149 , 3.52745337]),\n",
       " 2: array([ 0.33943864, -0.31251399]),\n",
       " 3: array([-0.69738635, -1.79223034]),\n",
       " 4: array([0.91931598, 1.71948452])}"
      ]
     },
     "execution_count": 530,
     "metadata": {},
     "output_type": "execute_result"
    }
   ],
   "source": [
    "alpha = 5\n",
    "# Set mean (mu) as a zero vector\n",
    "mu = np.zeros(2)\n",
    "# Set covariance matrix\n",
    "cov_matrix = np.array([[1.0, 0.5], [0.5, 2.0]])\n",
    "\n",
    "# Generate random vectors\n",
    "num_samples = 4  # Number of samples you want to generate\n",
    "\n",
    "points = {l+1: np.random.multivariate_normal(mu, cov_matrix) for l in range(num_samples)}\n",
    "points"
   ]
  },
  {
   "cell_type": "code",
   "execution_count": 531,
   "metadata": {},
   "outputs": [],
   "source": [
    "for i in range(1,5):\n",
    "    for j in range(2):\n",
    "        sum = 0\n",
    "        for m in range(len(Y)):\n",
    "            if ((Y[m][1] == i) or (Y[m][2] == i)):\n",
    "                sum += grad(m,j)\n",
    "        points[i][j] += 1/2*sum"
   ]
  },
  {
   "cell_type": "code",
   "execution_count": 532,
   "metadata": {},
   "outputs": [
    {
     "data": {
      "text/plain": [
       "{1: array([0.56624149, 6.3894885 ]),\n",
       " 2: array([ 0.13724272, -5.93153671]),\n",
       " 3: array([-0.52077676,  0.59777422]),\n",
       " 4: array([ 1.50525472, 11.60190762])}"
      ]
     },
     "execution_count": 532,
     "metadata": {},
     "output_type": "execute_result"
    }
   ],
   "source": [
    "points"
   ]
  },
  {
   "cell_type": "code",
   "execution_count": 533,
   "metadata": {},
   "outputs": [
    {
     "name": "stdout",
     "output_type": "stream",
     "text": [
      "-27.56971154080033\n"
     ]
    }
   ],
   "source": [
    "# Calculate thetas for each pair of points\n",
    "joint_prob = 0\n",
    "for m in range(len(Y)):\n",
    "    distance = dist(points[Y[m][1]], points[Y[m][2]])\n",
    "    theta_ij = logit(alpha - distance)\n",
    "    joint_prob += np.log(prop(theta_ij, Y[m][0]))\n",
    "\n",
    "print(joint_prob)"
   ]
  }
 ],
 "metadata": {
  "kernelspec": {
   "display_name": "bachelor",
   "language": "python",
   "name": "python3"
  },
  "language_info": {
   "codemirror_mode": {
    "name": "ipython",
    "version": 3
   },
   "file_extension": ".py",
   "mimetype": "text/x-python",
   "name": "python",
   "nbconvert_exporter": "python",
   "pygments_lexer": "ipython3",
   "version": "3.9.18"
  }
 },
 "nbformat": 4,
 "nbformat_minor": 2
}
