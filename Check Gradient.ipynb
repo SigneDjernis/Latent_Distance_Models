{
 "cells": [
  {
   "cell_type": "code",
   "execution_count": 33,
   "metadata": {},
   "outputs": [],
   "source": [
    "import numpy as np\n",
    "\n",
    "Y = [[1, 1, 2],\n",
    "     [-1, 1, 3],\n",
    "     [-1, 1, 4],\n",
    "     [1, 2, 3],\n",
    "     [1, 2, 4],\n",
    "     [1, 3, 4]]"
   ]
  },
  {
   "cell_type": "code",
   "execution_count": 34,
   "metadata": {},
   "outputs": [],
   "source": [
    "def function(point):\n",
    "    alpha = 5\n",
    "    return np.log(1/(1+np.exp(-Y[0][0]*(alpha-np.linalg.norm(point[Y[0][1]] - point[Y[0][1]])))))"
   ]
  },
  {
   "cell_type": "code",
   "execution_count": 35,
   "metadata": {},
   "outputs": [],
   "source": [
    "def grad(point):\n",
    "    alpha = 5\n",
    "    return (-2*Y[0][0]*(points[Y[0][1]][0]-points[Y[0][2]][0])*np.exp(-Y[0][0]*(alpha-np.linalg.norm(points[Y[0][1]],points[Y[0][2]]))))/(1+np.exp(-Y[0][0]*(alpha-np.linalg.norm(points[Y[0][1]],points[Y[0][2]]))))"
   ]
  },
  {
   "cell_type": "code",
   "execution_count": 36,
   "metadata": {},
   "outputs": [
    {
     "data": {
      "text/plain": [
       "-0.006715348489117944"
      ]
     },
     "execution_count": 36,
     "metadata": {},
     "output_type": "execute_result"
    }
   ],
   "source": [
    "function({1: np.array([-2, 0]),2: np.array([1, 2]),3: np.array([4, 3]),4: np.array([4, 3])\n",
    "})"
   ]
  },
  {
   "cell_type": "code",
   "execution_count": 37,
   "metadata": {},
   "outputs": [
    {
     "ename": "ValueError",
     "evalue": "The truth value of an array with more than one element is ambiguous. Use a.any() or a.all()",
     "output_type": "error",
     "traceback": [
      "\u001b[0;31m---------------------------------------------------------------------------\u001b[0m",
      "\u001b[0;31mValueError\u001b[0m                                Traceback (most recent call last)",
      "\u001b[1;32m/Users/signeolsen/Desktop/Latent_distance_models/Check Gradient.ipynb Cell 5\u001b[0m line \u001b[0;36m1\n\u001b[0;32m----> <a href='vscode-notebook-cell:/Users/signeolsen/Desktop/Latent_distance_models/Check%20Gradient.ipynb#X10sZmlsZQ%3D%3D?line=0'>1</a>\u001b[0m grad({\u001b[39m1\u001b[39;49m: np\u001b[39m.\u001b[39;49marray([\u001b[39m-\u001b[39;49m\u001b[39m2\u001b[39;49m, \u001b[39m0\u001b[39;49m]),\u001b[39m2\u001b[39;49m: np\u001b[39m.\u001b[39;49marray([\u001b[39m1\u001b[39;49m, \u001b[39m2\u001b[39;49m]),\u001b[39m3\u001b[39;49m: np\u001b[39m.\u001b[39;49marray([\u001b[39m4\u001b[39;49m, \u001b[39m3\u001b[39;49m]),\u001b[39m4\u001b[39;49m: np\u001b[39m.\u001b[39;49marray([\u001b[39m4\u001b[39;49m, \u001b[39m3\u001b[39;49m])\n\u001b[1;32m      <a href='vscode-notebook-cell:/Users/signeolsen/Desktop/Latent_distance_models/Check%20Gradient.ipynb#X10sZmlsZQ%3D%3D?line=1'>2</a>\u001b[0m })\n",
      "\u001b[1;32m/Users/signeolsen/Desktop/Latent_distance_models/Check Gradient.ipynb Cell 5\u001b[0m line \u001b[0;36m3\n\u001b[1;32m      <a href='vscode-notebook-cell:/Users/signeolsen/Desktop/Latent_distance_models/Check%20Gradient.ipynb#X10sZmlsZQ%3D%3D?line=0'>1</a>\u001b[0m \u001b[39mdef\u001b[39;00m \u001b[39mgrad\u001b[39m(point):\n\u001b[1;32m      <a href='vscode-notebook-cell:/Users/signeolsen/Desktop/Latent_distance_models/Check%20Gradient.ipynb#X10sZmlsZQ%3D%3D?line=1'>2</a>\u001b[0m     alpha \u001b[39m=\u001b[39m \u001b[39m5\u001b[39m\n\u001b[0;32m----> <a href='vscode-notebook-cell:/Users/signeolsen/Desktop/Latent_distance_models/Check%20Gradient.ipynb#X10sZmlsZQ%3D%3D?line=2'>3</a>\u001b[0m     \u001b[39mreturn\u001b[39;00m (\u001b[39m-\u001b[39m\u001b[39m2\u001b[39m\u001b[39m*\u001b[39mY[\u001b[39m0\u001b[39m][\u001b[39m0\u001b[39m]\u001b[39m*\u001b[39m(points[Y[\u001b[39m0\u001b[39m][\u001b[39m1\u001b[39m]][\u001b[39m0\u001b[39m]\u001b[39m-\u001b[39mpoints[Y[\u001b[39m0\u001b[39m][\u001b[39m2\u001b[39m]][\u001b[39m0\u001b[39m])\u001b[39m*\u001b[39mnp\u001b[39m.\u001b[39mexp(\u001b[39m-\u001b[39mY[\u001b[39m0\u001b[39m][\u001b[39m0\u001b[39m]\u001b[39m*\u001b[39m(alpha\u001b[39m-\u001b[39mnp\u001b[39m.\u001b[39;49mlinalg\u001b[39m.\u001b[39;49mnorm(points[Y[\u001b[39m0\u001b[39;49m][\u001b[39m1\u001b[39;49m]],points[Y[\u001b[39m0\u001b[39;49m][\u001b[39m2\u001b[39;49m]]))))\u001b[39m/\u001b[39m(\u001b[39m1\u001b[39m\u001b[39m+\u001b[39mnp\u001b[39m.\u001b[39mexp(\u001b[39m-\u001b[39mY[\u001b[39m0\u001b[39m][\u001b[39m0\u001b[39m]\u001b[39m*\u001b[39m(alpha\u001b[39m-\u001b[39mnp\u001b[39m.\u001b[39mlinalg\u001b[39m.\u001b[39mnorm(points[Y[\u001b[39m0\u001b[39m][\u001b[39m1\u001b[39m]],points[Y[\u001b[39m0\u001b[39m][\u001b[39m2\u001b[39m]]))))\n",
      "File \u001b[0;32m~/opt/anaconda3/envs/bachelor/lib/python3.9/site-packages/numpy/linalg/linalg.py:2543\u001b[0m, in \u001b[0;36mnorm\u001b[0;34m(x, ord, axis, keepdims)\u001b[0m\n\u001b[1;32m   2540\u001b[0m \u001b[39mif\u001b[39;00m axis \u001b[39mis\u001b[39;00m \u001b[39mNone\u001b[39;00m:\n\u001b[1;32m   2541\u001b[0m     ndim \u001b[39m=\u001b[39m x\u001b[39m.\u001b[39mndim\n\u001b[1;32m   2542\u001b[0m     \u001b[39mif\u001b[39;00m ((\u001b[39mord\u001b[39m \u001b[39mis\u001b[39;00m \u001b[39mNone\u001b[39;00m) \u001b[39mor\u001b[39;00m\n\u001b[0;32m-> 2543\u001b[0m         (\u001b[39mord\u001b[39;49m \u001b[39min\u001b[39;49;00m (\u001b[39m'\u001b[39;49m\u001b[39mf\u001b[39;49m\u001b[39m'\u001b[39;49m, \u001b[39m'\u001b[39;49m\u001b[39mfro\u001b[39;49m\u001b[39m'\u001b[39;49m) \u001b[39mand\u001b[39;00m ndim \u001b[39m==\u001b[39m \u001b[39m2\u001b[39m) \u001b[39mor\u001b[39;00m\n\u001b[1;32m   2544\u001b[0m         (\u001b[39mord\u001b[39m \u001b[39m==\u001b[39m \u001b[39m2\u001b[39m \u001b[39mand\u001b[39;00m ndim \u001b[39m==\u001b[39m \u001b[39m1\u001b[39m)):\n\u001b[1;32m   2546\u001b[0m         x \u001b[39m=\u001b[39m x\u001b[39m.\u001b[39mravel(order\u001b[39m=\u001b[39m\u001b[39m'\u001b[39m\u001b[39mK\u001b[39m\u001b[39m'\u001b[39m)\n\u001b[1;32m   2547\u001b[0m         \u001b[39mif\u001b[39;00m isComplexType(x\u001b[39m.\u001b[39mdtype\u001b[39m.\u001b[39mtype):\n",
      "\u001b[0;31mValueError\u001b[0m: The truth value of an array with more than one element is ambiguous. Use a.any() or a.all()"
     ]
    }
   ],
   "source": [
    "grad({1: np.array([-2, 0]),2: np.array([1, 2]),3: np.array([4, 3]),4: np.array([4, 3])\n",
    "})"
   ]
  },
  {
   "cell_type": "code",
   "execution_count": 39,
   "metadata": {},
   "outputs": [
    {
     "ename": "ModuleNotFoundError",
     "evalue": "No module named 'scipy'",
     "output_type": "error",
     "traceback": [
      "\u001b[0;31m---------------------------------------------------------------------------\u001b[0m",
      "\u001b[0;31mModuleNotFoundError\u001b[0m                       Traceback (most recent call last)",
      "\u001b[1;32m/Users/signeolsen/Desktop/Latent_distance_models/Check Gradient.ipynb Cell 6\u001b[0m line \u001b[0;36m1\n\u001b[0;32m----> <a href='vscode-notebook-cell:/Users/signeolsen/Desktop/Latent_distance_models/Check%20Gradient.ipynb#W2sZmlsZQ%3D%3D?line=0'>1</a>\u001b[0m \u001b[39mfrom\u001b[39;00m \u001b[39mscipy\u001b[39;00m\u001b[39m.\u001b[39;00m\u001b[39moptimize\u001b[39;00m \u001b[39mimport\u001b[39;00m check_grad\n\u001b[1;32m      <a href='vscode-notebook-cell:/Users/signeolsen/Desktop/Latent_distance_models/Check%20Gradient.ipynb#W2sZmlsZQ%3D%3D?line=1'>2</a>\u001b[0m check_grad(function, grad, [\u001b[39m1.5\u001b[39m, \u001b[39m-\u001b[39m\u001b[39m1.5\u001b[39m])\n",
      "\u001b[0;31mModuleNotFoundError\u001b[0m: No module named 'scipy'"
     ]
    }
   ],
   "source": [
    "from scipy.optimize import check_grad\n",
    "check_grad(function, grad, [1.5, -1.5])"
   ]
  }
 ],
 "metadata": {
  "kernelspec": {
   "display_name": "bachelor",
   "language": "python",
   "name": "python3"
  },
  "language_info": {
   "codemirror_mode": {
    "name": "ipython",
    "version": 3
   },
   "file_extension": ".py",
   "mimetype": "text/x-python",
   "name": "python",
   "nbconvert_exporter": "python",
   "pygments_lexer": "ipython3",
   "version": "3.9.18"
  }
 },
 "nbformat": 4,
 "nbformat_minor": 2
}
