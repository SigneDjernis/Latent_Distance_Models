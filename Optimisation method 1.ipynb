{
 "cells": [
  {
   "cell_type": "code",
   "execution_count": 1,
   "metadata": {},
   "outputs": [],
   "source": [
    "# Matrix Y, som er vores graf i matrixform.\n",
    "Y = [[0, 1, 0, 0], \n",
    "    [1, 0, 1, 1],\n",
    "    [0, 1, 0, 1],\n",
    "    [0, 1, 1, 0]]"
   ]
  },
  {
   "cell_type": "code",
   "execution_count": 2,
   "metadata": {},
   "outputs": [],
   "source": [
    "import numpy as np"
   ]
  },
  {
   "cell_type": "code",
   "execution_count": 3,
   "metadata": {},
   "outputs": [],
   "source": [
    "# Function som bounder mellem 0 og 1\n",
    "def logit(z):\n",
    "    return 1/(1+np.exp(-z))\n",
    "\n",
    "# Function som finder afstanden mellem knuder\n",
    "def dist(Zi,Zj):\n",
    "    sum = 0\n",
    "    for k in (0,len(Zi)-1):\n",
    "        sum += (Zi[k]-Zj[k])**2\n",
    "    return np.sqrt(sum)\n",
    "\n",
    "# Function P(y|theta)\n",
    "def prop(theta,y):\n",
    "    return (theta**y)*((1-theta)**(1-y))"
   ]
  },
  {
   "cell_type": "code",
   "execution_count": 4,
   "metadata": {},
   "outputs": [
    {
     "name": "stdout",
     "output_type": "stream",
     "text": [
      "-0.8567047013953558\n"
     ]
    }
   ],
   "source": [
    "# Define alpha and points and their respective names in a dictionary\n",
    "alpha = 5\n",
    "points = {\n",
    "    1: np.array([-2, 0]),\n",
    "    2: np.array([1, 2]),\n",
    "    3: np.array([4, 3]),\n",
    "    4: np.array([4, 3])\n",
    "}\n",
    "\n",
    "# Initialize a dictionary to store the calculated thetas\n",
    "thetas = {}\n",
    "\n",
    "# Calculate thetas for each pair of points\n",
    "joint_prob = 0\n",
    "for i in range(1, 4):\n",
    "    for j in range(i + 1, 5):\n",
    "        distance = dist(points[i], points[j])\n",
    "        theta_ij = logit(alpha - distance)\n",
    "        thetas[(i, j)] = theta_ij\n",
    "        joint_prob += np.log(prop(thetas[(i, j)], Y[i-1][j-1]))\n",
    "\n",
    "print(joint_prob)\n"
   ]
  },
  {
   "cell_type": "code",
   "execution_count": 12,
   "metadata": {},
   "outputs": [
    {
     "data": {
      "text/plain": [
       "-0.8567047013953558"
      ]
     },
     "execution_count": 12,
     "metadata": {},
     "output_type": "execute_result"
    }
   ],
   "source": [
    "# Old way:\n",
    "alpha = 5\n",
    "Z1 = [-2,0]\n",
    "Z2 = [1,2]\n",
    "Z3 = [4,3]\n",
    "Z4 = [4,3]\n",
    "\n",
    "theta_12 = logit(alpha-dist(Z1,Z2))\n",
    "theta_13 = logit(alpha-dist(Z1,Z3))\n",
    "theta_14 = logit(alpha-dist(Z1,Z4))\n",
    "theta_23 = logit(alpha-dist(Z2,Z3))\n",
    "theta_24 = logit(alpha-dist(Z2,Z4))\n",
    "theta_34 = logit(alpha-dist(Z3,Z4))\n",
    "np.log(prop(theta_12,Y[0][1])*prop(theta_13,Y[0][2])*prop(theta_14,Y[0][3])*prop(theta_23,Y[1][2])*prop(theta_24,Y[1][3])*prop(theta_34,Y[2][3]))"
   ]
  },
  {
   "cell_type": "code",
   "execution_count": 10,
   "metadata": {},
   "outputs": [
    {
     "data": {
      "text/plain": [
       "0.8013015070463253"
      ]
     },
     "execution_count": 10,
     "metadata": {},
     "output_type": "execute_result"
    }
   ],
   "source": [
    "import numpy as np\n",
    "theta_12 = logit(alpha-dist(Z1,Z2))\n",
    "prop(theta_12,1)\n"
   ]
  }
 ],
 "metadata": {
  "kernelspec": {
   "display_name": "bachelor",
   "language": "python",
   "name": "python3"
  },
  "language_info": {
   "codemirror_mode": {
    "name": "ipython",
    "version": 3
   },
   "file_extension": ".py",
   "mimetype": "text/x-python",
   "name": "python",
   "nbconvert_exporter": "python",
   "pygments_lexer": "ipython3",
   "version": "3.9.18"
  }
 },
 "nbformat": 4,
 "nbformat_minor": 2
}
