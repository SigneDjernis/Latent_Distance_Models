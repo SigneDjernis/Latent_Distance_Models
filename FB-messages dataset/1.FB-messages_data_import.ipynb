{
 "cells": [
  {
   "cell_type": "code",
   "execution_count": 6,
   "metadata": {},
   "outputs": [],
   "source": [
    "from scipy.io import mmread\n",
    "import numpy as np\n",
    "from scipy.sparse import lil_matrix"
   ]
  },
  {
   "cell_type": "markdown",
   "metadata": {},
   "source": [
    "https://networkrepository.com/ia-fb-messages.php"
   ]
  },
  {
   "cell_type": "code",
   "execution_count": 7,
   "metadata": {},
   "outputs": [],
   "source": [
    "num_nodes = 1266 # Number of users\n",
    "num_connectins = int(num_nodes*(num_nodes-1)/2) # Number of possible edges\n",
    "Y = np.zeros((num_connectins,3)) # Empty matrix Y"
   ]
  },
  {
   "cell_type": "code",
   "execution_count": 10,
   "metadata": {},
   "outputs": [],
   "source": [
    "# Read the soc-Slashdot.mtx file\n",
    "with open('FB-messages.mtx', 'r') as file:\n",
    "    FB_messages_dataset = file.readlines()"
   ]
  },
  {
   "cell_type": "code",
   "execution_count": 15,
   "metadata": {},
   "outputs": [],
   "source": [
    "# The input data is a file contaning all edges, every line contains two vertices\n",
    "# In every loop we check if a and b are are connected, if so y_{a,b}=1 otherwise -1 is stored in the m'th row in Y\n",
    "data_index = 0\n",
    "m = 0\n",
    "for a in range(1,num_nodes):\n",
    "    for b in range(a+1,num_nodes+1):\n",
    "        if int(FB_messages_dataset[data_index].split()[0]) == b and int(FB_messages_dataset[data_index].split()[1]) == a: # The data is stored reverse...\n",
    "            Y[m] = [1, a, b]\n",
    "            data_index += 1 # Proceed to the next row in data\n",
    "        else:\n",
    "            Y[m] = [-1, a, b]\n",
    "        \n",
    "        m += 1 # Proceed to the next row in Y"
   ]
  }
 ],
 "metadata": {
  "kernelspec": {
   "display_name": "bachelor",
   "language": "python",
   "name": "python3"
  },
  "language_info": {
   "codemirror_mode": {
    "name": "ipython",
    "version": 3
   },
   "file_extension": ".py",
   "mimetype": "text/x-python",
   "name": "python",
   "nbconvert_exporter": "python",
   "pygments_lexer": "ipython3",
   "version": "3.9.18"
  }
 },
 "nbformat": 4,
 "nbformat_minor": 2
}
