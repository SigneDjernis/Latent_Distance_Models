{
 "cells": [
  {
   "cell_type": "code",
   "execution_count": 6,
   "metadata": {},
   "outputs": [],
   "source": [
    "import numpy as np\n",
    "%run Dolphins_data.ipynb\n",
    "import Functions"
   ]
  },
  {
   "cell_type": "code",
   "execution_count": 3,
   "metadata": {},
   "outputs": [],
   "source": [
    "mu = np.zeros(2) # Define mean (mu) as a zero vector\n",
    "cov_matrix = np.array([[1.0, 0.5], [0.5, 2.0]]) # Define covariance matrix\n",
    "num_samples = 62  # Number of samples you want to generate\n",
    "\n",
    "points = {l+1: np.random.multivariate_normal(mu, cov_matrix) for l in range(num_samples)}"
   ]
  },
  {
   "cell_type": "code",
   "execution_count": 4,
   "metadata": {},
   "outputs": [
    {
     "data": {
      "text/plain": [
       "-37.58892958316781"
      ]
     },
     "execution_count": 4,
     "metadata": {},
     "output_type": "execute_result"
    }
   ],
   "source": [
    "Functions.grad(1,0,Y,points)"
   ]
  },
  {
   "cell_type": "code",
   "execution_count": 5,
   "metadata": {},
   "outputs": [
    {
     "ename": "KeyError",
     "evalue": "0.0",
     "output_type": "error",
     "traceback": [
      "\u001b[0;31m---------------------------------------------------------------------------\u001b[0m",
      "\u001b[0;31mKeyError\u001b[0m                                  Traceback (most recent call last)",
      "\u001b[1;32m/Users/signeolsen/Desktop/Latent_distance_models/Dolphins dataset/Dolphins_grad.ipynb Cell 4\u001b[0m line \u001b[0;36m1\n\u001b[0;32m----> <a href='vscode-notebook-cell:/Users/signeolsen/Desktop/Latent_distance_models/Dolphins%20dataset/Dolphins_grad.ipynb#W3sZmlsZQ%3D%3D?line=0'>1</a>\u001b[0m Functions\u001b[39m.\u001b[39;49mfunction(points,Y)\n",
      "File \u001b[0;32m~/Desktop/Latent_distance_models/Dolphins dataset/Functions.py:12\u001b[0m, in \u001b[0;36mfunction\u001b[0;34m(point, Y)\u001b[0m\n\u001b[1;32m     10\u001b[0m     \u001b[39mfor\u001b[39;00m m \u001b[39min\u001b[39;00m \u001b[39mrange\u001b[39m(\u001b[39mlen\u001b[39m(Y)):\n\u001b[1;32m     11\u001b[0m         connection \u001b[39m=\u001b[39m Y[m][\u001b[39m0\u001b[39m] \u001b[39m# Check to see if there is a connection\u001b[39;00m\n\u001b[0;32m---> 12\u001b[0m         distance \u001b[39m=\u001b[39m (np\u001b[39m.\u001b[39mlinalg\u001b[39m.\u001b[39mnorm(point[Y[m][\u001b[39m1\u001b[39;49m]\u001b[39m-\u001b[39;49m\u001b[39m1\u001b[39;49m] \u001b[39m-\u001b[39m point[Y[m][\u001b[39m2\u001b[39m]\u001b[39m-\u001b[39m\u001b[39m1\u001b[39m]))\u001b[39m*\u001b[39m\u001b[39m*\u001b[39m\u001b[39m2\u001b[39m \u001b[39m# Calculate the euclidean distance squared\u001b[39;00m\n\u001b[1;32m     13\u001b[0m         \u001b[39msum\u001b[39m[i] \u001b[39m+\u001b[39m\u001b[39m=\u001b[39m np\u001b[39m.\u001b[39mlog(\u001b[39m1\u001b[39m\u001b[39m/\u001b[39m(\u001b[39m1\u001b[39m\u001b[39m+\u001b[39mnp\u001b[39m.\u001b[39mexp(\u001b[39m-\u001b[39mconnection\u001b[39m*\u001b[39m(alpha\u001b[39m-\u001b[39mdistance))))\n\u001b[1;32m     14\u001b[0m \u001b[39mreturn\u001b[39;00m \u001b[39msum\u001b[39m\n",
      "\u001b[0;31mKeyError\u001b[0m: 0.0"
     ]
    }
   ],
   "source": [
    "Functions.function(points,Y)"
   ]
  },
  {
   "cell_type": "code",
   "execution_count": 7,
   "metadata": {},
   "outputs": [
    {
     "ename": "KeyError",
     "evalue": "0.0",
     "output_type": "error",
     "traceback": [
      "\u001b[0;31m---------------------------------------------------------------------------\u001b[0m",
      "\u001b[0;31mKeyError\u001b[0m                                  Traceback (most recent call last)",
      "\u001b[1;32m/Users/signeolsen/Desktop/Latent_distance_models/Dolphins dataset/Dolphins_grad.ipynb Cell 5\u001b[0m line \u001b[0;36m1\n\u001b[0;32m----> <a href='vscode-notebook-cell:/Users/signeolsen/Desktop/Latent_distance_models/Dolphins%20dataset/Dolphins_grad.ipynb#W4sZmlsZQ%3D%3D?line=0'>1</a>\u001b[0m (np\u001b[39m.\u001b[39mlinalg\u001b[39m.\u001b[39mnorm(points[Y[\u001b[39m1\u001b[39;49m][\u001b[39m1\u001b[39;49m]\u001b[39m-\u001b[39;49m\u001b[39m1\u001b[39;49m] \u001b[39m-\u001b[39m points[Y[\u001b[39m1\u001b[39m][\u001b[39m2\u001b[39m]\u001b[39m-\u001b[39m\u001b[39m1\u001b[39m]))\u001b[39m*\u001b[39m\u001b[39m*\u001b[39m\u001b[39m2\u001b[39m\n",
      "\u001b[0;31mKeyError\u001b[0m: 0.0"
     ]
    }
   ],
   "source": [
    "(np.linalg.norm(points[Y[1][1]-1] - points[Y[1][2]-1]))**2"
   ]
  },
  {
   "cell_type": "code",
   "execution_count": 11,
   "metadata": {},
   "outputs": [
    {
     "ename": "NameError",
     "evalue": "name 'intY' is not defined",
     "output_type": "error",
     "traceback": [
      "\u001b[0;31m---------------------------------------------------------------------------\u001b[0m",
      "\u001b[0;31mNameError\u001b[0m                                 Traceback (most recent call last)",
      "\u001b[1;32m/Users/signeolsen/Desktop/Latent_distance_models/Dolphins dataset/Dolphins_grad.ipynb Cell 6\u001b[0m line \u001b[0;36m1\n\u001b[0;32m----> <a href='vscode-notebook-cell:/Users/signeolsen/Desktop/Latent_distance_models/Dolphins%20dataset/Dolphins_grad.ipynb#W5sZmlsZQ%3D%3D?line=0'>1</a>\u001b[0m points[intY[\u001b[39m1\u001b[39m][\u001b[39m1\u001b[39m]\u001b[39m-\u001b[39m\u001b[39m1\u001b[39m]\n",
      "\u001b[0;31mNameError\u001b[0m: name 'intY' is not defined"
     ]
    }
   ],
   "source": [
    "points[intY[1][1]-1]"
   ]
  },
  {
   "cell_type": "code",
   "execution_count": 9,
   "metadata": {},
   "outputs": [
    {
     "data": {
      "text/plain": [
       "1.0"
      ]
     },
     "execution_count": 9,
     "metadata": {},
     "output_type": "execute_result"
    }
   ],
   "source": [
    "Y[1][1]"
   ]
  }
 ],
 "metadata": {
  "kernelspec": {
   "display_name": "bachelor",
   "language": "python",
   "name": "python3"
  },
  "language_info": {
   "codemirror_mode": {
    "name": "ipython",
    "version": 3
   },
   "file_extension": ".py",
   "mimetype": "text/x-python",
   "name": "python",
   "nbconvert_exporter": "python",
   "pygments_lexer": "ipython3",
   "version": "3.9.18"
  }
 },
 "nbformat": 4,
 "nbformat_minor": 2
}
