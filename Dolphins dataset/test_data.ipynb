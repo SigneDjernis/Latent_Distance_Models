{
 "cells": [
  {
   "cell_type": "code",
   "execution_count": 6,
   "metadata": {},
   "outputs": [],
   "source": [
    "# Import packages, the Y-matrix for the dataset and Functions.py\n",
    "import numpy as np\n",
    "%run Dolphins_data_import.ipynb\n",
    "import sys\n",
    "sys.path.append('../')\n",
    "from Functions import * \n",
    "import copy\n",
    "import random"
   ]
  },
  {
   "cell_type": "code",
   "execution_count": 7,
   "metadata": {},
   "outputs": [],
   "source": [
    "num_samples = 62 \n",
    "alpha = 5\n",
    "num_splits = 5\n",
    "procent = 10\n",
    "random_numbers_matrix = np.zeros((num_splits,int(len(Y)/100*procent)))\n",
    "k = 0\n",
    "s = 0\n",
    "while k < num_splits:\n",
    "    random_numbers = random.sample(range(0, len(Y)), int(len(Y)/100*procent))\n",
    "    Y_updated = np.delete(Y, random_numbers, axis=0)\n",
    "    s += 1\n",
    "    degree = np.zeros(num_samples)\n",
    "    for m in range(len(Y_updated)): \n",
    "        if Y_updated[m][0] == 1: \n",
    "            degree[int(Y_updated[m][1])-1] += 1\n",
    "            degree[int(Y_updated[m][2])-1] += 1\n",
    "    \n",
    "    if not np.any(degree == 0) :\n",
    "        random_numbers_matrix[k] = random_numbers\n",
    "        k += 1"
   ]
  },
  {
   "cell_type": "code",
   "execution_count": 4,
   "metadata": {},
   "outputs": [],
   "source": [
    "dim = 2\n",
    "\n",
    "# Define mu and cov_matrix to be able to sample #num_samples samples from a multivariate normal distribution\n",
    "mu = np.zeros(dim) \n",
    "identity_matrix = np.eye(dim) \n",
    "cov_matrix = identity_matrix \n",
    "\n",
    "points = {l+1: np.random.multivariate_normal(mu, cov_matrix) for l in range(num_samples)}"
   ]
  },
  {
   "cell_type": "code",
   "execution_count": 8,
   "metadata": {},
   "outputs": [
    {
     "name": "stdout",
     "output_type": "stream",
     "text": [
      "Stored 'points' (dict)\n",
      "Stored 'random_numbers_matrix' (ndarray)\n"
     ]
    }
   ],
   "source": [
    "%store points\n",
    "%store random_numbers_matrix"
   ]
  }
 ],
 "metadata": {
  "kernelspec": {
   "display_name": "bachelor",
   "language": "python",
   "name": "python3"
  },
  "language_info": {
   "codemirror_mode": {
    "name": "ipython",
    "version": 3
   },
   "file_extension": ".py",
   "mimetype": "text/x-python",
   "name": "python",
   "nbconvert_exporter": "python",
   "pygments_lexer": "ipython3",
   "version": "3.9.18"
  }
 },
 "nbformat": 4,
 "nbformat_minor": 2
}
