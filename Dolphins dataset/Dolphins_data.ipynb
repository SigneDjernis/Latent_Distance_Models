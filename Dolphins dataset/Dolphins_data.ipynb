{
 "cells": [
  {
   "cell_type": "code",
   "execution_count": 118,
   "metadata": {},
   "outputs": [],
   "source": [
    "from scipy.io import mmread\n",
    "import numpy as np\n",
    "from scipy.sparse import lil_matrix"
   ]
  },
  {
   "cell_type": "code",
   "execution_count": 119,
   "metadata": {},
   "outputs": [],
   "source": [
    "num_dolphins = 62 # Number of dolphins\n",
    "num_connectins = int(num_dolphins*(num_dolphins-1)/2) # Number of possible edges\n",
    "Y = np.zeros((num_connectins,3)) # Empty matrix Y"
   ]
  },
  {
   "cell_type": "code",
   "execution_count": 120,
   "metadata": {},
   "outputs": [],
   "source": [
    "# Read the Dolphins.mtx file\n",
    "with open('Dolphins.mtx', 'r') as file:\n",
    "    data = file.readlines()"
   ]
  },
  {
   "cell_type": "code",
   "execution_count": 121,
   "metadata": {},
   "outputs": [],
   "source": [
    "k = 0 # Index for the row we are checking in data\n",
    "index = 0 # Index for the row in Y\n",
    "for i in range(1,62): # i goes from vertex 1 to 61\n",
    "    for j in range(i+1,62+1): # j goes from vertex i+1 to 62\n",
    "        if int(data[k].split()[1]) == i and int(data[k].split()[0]) == j: # Check if vertex i and j are connected. The data is stored reverse...\n",
    "            Y[index] = [1, i, j] # Insert that there is a connection in Y for vertex i and j\n",
    "            k += 1 # Proceed to the next row in data\n",
    "        else:\n",
    "            Y[index] = [-1, i, j] # Insert that there is NOT a connection in Y for vertex i and j\n",
    "        index += 1 # Proceed to the next row in Y"
   ]
  },
  {
   "cell_type": "code",
   "execution_count": null,
   "metadata": {},
   "outputs": [],
   "source": [
    "np.savetxt('Y.csv', Y, delimiter=',') # Save the matrix"
   ]
  }
 ],
 "metadata": {
  "kernelspec": {
   "display_name": "bachelor",
   "language": "python",
   "name": "python3"
  },
  "language_info": {
   "codemirror_mode": {
    "name": "ipython",
    "version": 3
   },
   "file_extension": ".py",
   "mimetype": "text/x-python",
   "name": "python",
   "nbconvert_exporter": "python",
   "pygments_lexer": "ipython3",
   "version": "3.9.18"
  }
 },
 "nbformat": 4,
 "nbformat_minor": 2
}
