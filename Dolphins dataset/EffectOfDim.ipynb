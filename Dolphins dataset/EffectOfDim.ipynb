{
 "cells": [
  {
   "cell_type": "code",
   "execution_count": 7,
   "metadata": {},
   "outputs": [],
   "source": [
    "# Import packages, the Y-matrix for the dataset and Functions.py\n",
    "import numpy as np\n",
    "%run Dolphins_data_import.ipynb\n",
    "import sys\n",
    "sys.path.append('../') # Change path\n",
    "from Functions import *\n",
    "import math\n",
    "import copy\n",
    "%store -r random_numbers_matrix"
   ]
  },
  {
   "cell_type": "code",
   "execution_count": 9,
   "metadata": {},
   "outputs": [],
   "source": [
    "alpha = 2"
   ]
  },
  {
   "cell_type": "code",
   "execution_count": 10,
   "metadata": {},
   "outputs": [],
   "source": [
    "n = 10 # Number of iterations\n",
    "m = 20 # Length of dim_array\n",
    "dim_array = [i+1 for i in range(m)]\n",
    "Accuracy_dim = [0]*len(dim_array)\n",
    "MLL = np.zeros(m+1) # Define the MLL\n",
    "l = 0 \n",
    "\n",
    "for dim in dim_array:\n",
    "    # Define mu and cov_matrix to be able to sample #num_samples samples from a multivariate normal distribution\n",
    "    mu = np.zeros(dim) \n",
    "    identity_matrix = np.eye(dim) \n",
    "    cov_matrix = identity_matrix\n",
    "    num_samples = 62 \n",
    "\n",
    "    points = {l+1: np.random.multivariate_normal(mu, cov_matrix) for l in range(num_samples)}\n",
    "\n",
    "    True_posetiv = np.zeros(len(random_numbers_matrix))\n",
    "    True_negativ = np.zeros(len(random_numbers_matrix))\n",
    "    False_posetiv = np.zeros(len(random_numbers_matrix))\n",
    "    False_negativ = np.zeros(len(random_numbers_matrix))\n",
    "\n",
    "    Accuracy = np.zeros(len(random_numbers_matrix))\n",
    "    \n",
    "    for s in range(len(random_numbers_matrix)):\n",
    "        Y_updated = np.delete(Y,random_numbers_matrix[s].flatten().astype(int), axis=0)\n",
    "\n",
    "        prev_grad = 200\n",
    "        grad = 0\n",
    "        n = 100000\n",
    "        points_copy = copy.deepcopy(points)\n",
    "        grad_sum = np.zeros(n) # Define the gradient sum\n",
    "        k = 0\n",
    "\n",
    "        while abs(prev_grad - grad) > 0.001: # stopping criteria\n",
    "            prev_grad = grad\n",
    "            for i in range(1,num_samples+1): # Run over number of num_samples\n",
    "                grad_now = Gradient_function_fast(i,dim,Y_updated,points_copy,alpha)\n",
    "                grad_sum[k] += np.sum((grad_now)**2)\n",
    "                points_copy[i] += LR(k)*grad_now # Use Gradient_function and take step=0.1*grad\n",
    "            grad = grad_sum[k]\n",
    "            k += 1\n",
    "\n",
    "        connections = Y[random_numbers_matrix[s].flatten().astype(int), 0]\n",
    "        point_a = [points_copy[i] for i in Y[random_numbers_matrix[s].flatten().astype(int),1]]\n",
    "        point_b = [points_copy[i] for i in Y[random_numbers_matrix[s].flatten().astype(int),2]]\n",
    "        points_a_np = np.array(point_a)\n",
    "        points_b_np = np.array(point_b)\n",
    "\n",
    "        distances = np.sum((points_a_np - points_b_np) ** 2, axis=1)\n",
    "        sigmoid_value = 1 / (1 + np.exp(-1 * (alpha - distances)))\n",
    "\n",
    "        True_posetiv[s] = np.sum(connections*sigmoid_value >= 0.5)\n",
    "        False_posetiv[s] = np.sum(connections*sigmoid_value <= -0.5)\n",
    "        True_negativ[s] = np.sum((connections*sigmoid_value > -0.5) & (connections*sigmoid_value <= 0))\n",
    "        False_negativ[s] = np.sum((connections*sigmoid_value > 0) & (connections*sigmoid_value < 0.5))\n",
    "    \n",
    "        Accuracy[s] = (True_posetiv[s]+True_negativ[s])/(len(sigmoid_value))\n",
    "\n",
    "    Accuracy_dim[l] = np.mean(Accuracy)\n",
    "\n",
    "    l += 1"
   ]
  },
  {
   "cell_type": "code",
   "execution_count": 12,
   "metadata": {},
   "outputs": [
    {
     "data": {
      "text/plain": [
       "Text(0.5, 0, 'Dimension')"
      ]
     },
     "execution_count": 12,
     "metadata": {},
     "output_type": "execute_result"
    },
    {
     "data": {
      "image/png": "[encoded data removed]",
      "text/plain": [
       "<Figure size 640x480 with 1 Axes>"
      ]
     },
     "metadata": {},
     "output_type": "display_data"
    }
   ],
   "source": [
    "# Define x-axis values\n",
    "plt.plot(dim_array, Accuracy_dim)\n",
    "plt.ylabel('Mean accuracy')\n",
    "plt.xlabel('Dimension')"
   ]
  },
  {
   "cell_type": "code",
   "execution_count": 13,
   "metadata": {},
   "outputs": [
    {
     "data": {
      "text/plain": [
       "[0.7915343915343915,\n",
       " 0.8825396825396826,\n",
       " 0.9058201058201059,\n",
       " 0.9164021164021164,\n",
       " 0.9238095238095237,\n",
       " 0.9269841269841269,\n",
       " 0.9259259259259259,\n",
       " 0.928042328042328,\n",
       " 0.9291005291005291,\n",
       " 0.928042328042328,\n",
       " 0.9291005291005291,\n",
       " 0.9291005291005291,\n",
       " 0.9301587301587302,\n",
       " 0.9291005291005291,\n",
       " 0.9291005291005291,\n",
       " 0.928042328042328,\n",
       " 0.9291005291005291,\n",
       " 0.9291005291005291,\n",
       " 0.9291005291005291,\n",
       " 0.9291005291005291]"
      ]
     },
     "execution_count": 13,
     "metadata": {},
     "output_type": "execute_result"
    }
   ],
   "source": [
    "Accuracy_dim"
   ]
  },
  {
   "cell_type": "code",
   "execution_count": 14,
   "metadata": {},
   "outputs": [
    {
     "data": {
      "text/plain": [
       "[1, 2, 3, 4, 5, 6, 7, 8, 9, 10, 11, 12, 13, 14, 15, 16, 17, 18, 19, 20]"
      ]
     },
     "execution_count": 14,
     "metadata": {},
     "output_type": "execute_result"
    }
   ],
   "source": [
    "dim_array"
   ]
  }
 ],
 "metadata": {
  "kernelspec": {
   "display_name": "bachelor",
   "language": "python",
   "name": "python3"
  },
  "language_info": {
   "codemirror_mode": {
    "name": "ipython",
    "version": 3
   },
   "file_extension": ".py",
   "mimetype": "text/x-python",
   "name": "python",
   "nbconvert_exporter": "python",
   "pygments_lexer": "ipython3",
   "version": "3.9.18"
  }
 },
 "nbformat": 4,
 "nbformat_minor": 2
}
