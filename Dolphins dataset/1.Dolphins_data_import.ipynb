{
 "cells": [
  {
   "cell_type": "code",
   "execution_count": 2,
   "metadata": {},
   "outputs": [],
   "source": [
    "from scipy.io import mmread\n",
    "import numpy as np\n",
    "from scipy.sparse import lil_matrix"
   ]
  },
  {
   "cell_type": "code",
   "execution_count": 3,
   "metadata": {},
   "outputs": [],
   "source": [
    "num_dolphins = 62 # Number of dolphins\n",
    "num_connectins = int(num_dolphins*(num_dolphins-1)/2) # Number of possible edges\n",
    "Y = np.zeros((num_connectins,3)) # Empty matrix Y"
   ]
  },
  {
   "cell_type": "code",
   "execution_count": 4,
   "metadata": {},
   "outputs": [],
   "source": [
    "# Read the Dolphins.mtx file\n",
    "with open('Dolphins.mtx', 'r') as file:\n",
    "    data = file.readlines()"
   ]
  },
  {
   "cell_type": "code",
   "execution_count": 8,
   "metadata": {},
   "outputs": [],
   "source": [
    "# The input data is a file contaning all edges, every line contains two vertices\n",
    "# In every loop we check if a and b are are connected, if so y_{a,b}=1 otherwise -1 is stored in the m'th row in Y\n",
    "data_index = 0\n",
    "m = 0\n",
    "for a in range(1,num_dolphins):\n",
    "    for b in range(a+1,num_dolphins+1):\n",
    "        if int(data[data_index].split()[1]) == a and int(data[data_index].split()[0]) == b: # The data is stored reverse...\n",
    "            Y[m] = [1, a, b]\n",
    "            data_index += 1 # Proceed to the next row in data\n",
    "        else:\n",
    "            Y[m] = [-1, a, b]\n",
    "        \n",
    "        m += 1 # Proceed to the next row in Y"
   ]
  },
  {
   "cell_type": "code",
   "execution_count": null,
   "metadata": {},
   "outputs": [],
   "source": [
    "np.savetxt('Y.csv', Y, delimiter=',') # Save the matrix"
   ]
  }
 ],
 "metadata": {
  "kernelspec": {
   "display_name": "bachelor",
   "language": "python",
   "name": "python3"
  },
  "language_info": {
   "codemirror_mode": {
    "name": "ipython",
    "version": 3
   },
   "file_extension": ".py",
   "mimetype": "text/x-python",
   "name": "python",
   "nbconvert_exporter": "python",
   "pygments_lexer": "ipython3",
   "version": "3.9.18"
  }
 },
 "nbformat": 4,
 "nbformat_minor": 2
}
