{
 "cells": [
  {
   "cell_type": "code",
   "execution_count": 118,
   "metadata": {},
   "outputs": [],
   "source": [
    "from scipy.io import mmread\n",
    "import numpy as np\n",
    "from scipy.sparse import lil_matrix"
   ]
  },
  {
   "cell_type": "code",
   "execution_count": 119,
   "metadata": {},
   "outputs": [],
   "source": [
    "num_dolphins = 62 # Number of dolphins\n",
    "num_connectins = int(num_dolphins*(num_dolphins-1)/2) # Number of possible edges\n",
    "Y = np.zeros((num_connectins,3)) # Matrix Y"
   ]
  },
  {
   "cell_type": "code",
   "execution_count": 120,
   "metadata": {},
   "outputs": [],
   "source": [
    "# Read the .mtx file\n",
    "with open('Dolphins.mtx', 'r') as file:\n",
    "    data = file.readlines()"
   ]
  },
  {
   "cell_type": "code",
   "execution_count": 122,
   "metadata": {},
   "outputs": [],
   "source": [
    "np.savetxt('large_matrix.csv', Y, delimiter=',')"
   ]
  },
  {
   "cell_type": "code",
   "execution_count": 121,
   "metadata": {},
   "outputs": [],
   "source": [
    "k = 0\n",
    "index = 0\n",
    "for i in range(1,62):\n",
    "    for j in range(i+1,62+1):\n",
    "        if int(data[k].split()[1]) == i and int(data[k].split()[0]) == j:\n",
    "            Y[index] = [1, i, j]\n",
    "            k += 1\n",
    "        else:\n",
    "            Y[index] = [-1, i, j]\n",
    "        index += 1"
   ]
  }
 ],
 "metadata": {
  "kernelspec": {
   "display_name": "bachelor",
   "language": "python",
   "name": "python3"
  },
  "language_info": {
   "codemirror_mode": {
    "name": "ipython",
    "version": 3
   },
   "file_extension": ".py",
   "mimetype": "text/x-python",
   "name": "python",
   "nbconvert_exporter": "python",
   "pygments_lexer": "ipython3",
   "version": "3.9.18"
  }
 },
 "nbformat": 4,
 "nbformat_minor": 2
}
